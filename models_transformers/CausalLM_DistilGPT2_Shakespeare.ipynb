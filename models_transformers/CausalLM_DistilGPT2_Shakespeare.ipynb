{
  "cells": [
    {
      "cell_type": "markdown",
      "metadata": {
        "id": "ezzKLPtx8S6C"
      },
      "source": [
        "# **Shakespeare-Style Text Generation with DistilGPT2**"
      ]
    },
    {
      "cell_type": "markdown",
      "metadata": {
        "id": "JhhWum6YU8kN"
      },
      "source": [
        "This notebook demonstrates the implementation of a Causal Language Model for generating text in the style of Shakespeare, using the pre-trained [DistilGPT2 (short for Distilled-GPT2)](https://huggingface.co/distilbert/distilgpt2) model from [Hugging Face 🤗](https://huggingface.co/). In this case, the dataset is expanded with a larger one compared to the one used in the [LSTM model](https://github.com/JersonGB22/CausalLanguageModeling-TensorFlow/blob/main/models_lstm/CausalLM_LSTM_Shakespeare.ipynb). This dataset is obtained from the official [Project Gutenberg](https://www.gutenberg.org/cache/epub/100/pg100.txt) page and contains the most important works of Shakespeare.\n",
        "\n",
        "Hugging Face is a platform focused on developing tools and models for natural language processing (NLP). It is known for its open-source library called Transformers, which provides an easy-to-use interface for working with advanced pre-trained NLP models like BERT, T5, GPT, and others.\n",
        "\n",
        "**Key Points:**\n",
        "- **Model Architecture:** The DistilGPT2 model, the smaller version of Generative Pre-trained Transformer 2 (GPT-2), pre-trained in English, is fine-tuned using a causal language modeling (CLM) objective and has 82 million parameters. The model is loaded using the generic [TFAutoModelForCausalLM](https://huggingface.co/docs/transformers/en/model_doc/auto#transformers.TFAutoModelForCausalLM) class, which allows creating an instance of a pre-trained TensorFlow-based model designed specifically for causal language tasks as it includes an appropriate classification layer on top. This differs from [TFAutoModel](https://huggingface.co/transformers/v3.0.2/model_doc/auto.html#tfautomodel), which provides the base model without additional layers.\n",
        "\n",
        "- **Tokenization:** Hugging Face has implemented a tokenizer for each of its models that returns everything needed for the respective model's inputs. In this case, the generic tokenizer [AutoTokenizer](https://huggingface.co/docs/transformers/model_doc/auto#transformers.AutoTokenizer) will be used, which allows creating an instance of the model's tokenizer by its name alone. For this text generation task, the entire text is tokenized, returning `input_ids` (the tokenized sequences) and `attention_mask` (a mask to avoid attending to padding token indices), and then split into blocks of size `seq_length` to be fed into the model.\n",
        "\n",
        "- **Use of TPU:** In this case, it is not strictly necessary to use a Google Colab TPU since the model and dataset are small and a GPU could be used. However, using a TPU significantly accelerates the training time.\n",
        "\n",
        "For an implementation with a larger model, visit my next [notebook](https://github.com/JersonGB22/CausalLanguageModeling-TensorFlow/blob/main/models_transformers/CausalLM_GPT2_WikiText-103.ipynb), where a GPT-2 model is fine-tuned with the WikiText-103 dataset."
      ]
    },
    {
      "cell_type": "markdown",
      "metadata": {
        "id": "43AY8jCC8cp-"
      },
      "source": [
        "## **Imports**"
      ]
    },
    {
      "cell_type": "code",
      "execution_count": 1,
      "metadata": {
        "id": "c0d_8XPxoi92"
      },
      "outputs": [],
      "source": [
        "import tensorflow as tf\n",
        "import os\n",
        "os.environ[\"TF_USE_LEGACY_KERAS\"] = \"1\"\n",
        "\n",
        "from transformers import TFAutoModelForCausalLM, AutoTokenizer\n",
        "import numpy as np\n",
        "import plotly.graph_objects as go\n",
        "from google.colab import drive\n",
        "from IPython.core.display import HTML"
      ]
    },
    {
      "cell_type": "markdown",
      "metadata": {
        "id": "piIYd5Nl-8SX"
      },
      "source": [
        "## **Parameters**"
      ]
    },
    {
      "cell_type": "code",
      "execution_count": 2,
      "metadata": {
        "colab": {
          "base_uri": "https://localhost:8080/"
        },
        "id": "sFOW9rH6TXpW",
        "outputId": "2040623a-8e86-4d8f-9d06-d45e858a5ad8"
      },
      "outputs": [
        {
          "name": "stdout",
          "output_type": "stream",
          "text": [
            "Mounted at /content/drive/\n"
          ]
        }
      ],
      "source": [
        "drive.mount(\"/content/drive/\")"
      ]
    },
    {
      "cell_type": "code",
      "execution_count": 3,
      "metadata": {
        "id": "eG-hJMUdRw6y"
      },
      "outputs": [],
      "source": [
        "model_name = \"distilgpt2\"\n",
        "seq_length = 256\n",
        "batch_size = 32\n",
        "buffer_size = 1024\n",
        "AUTOTUNE = tf.data.AUTOTUNE\n",
        "SEED = 123\n",
        "epochs = 20"
      ]
    },
    {
      "cell_type": "markdown",
      "metadata": {
        "id": "2Jb1Tnf8-6m3"
      },
      "source": [
        "## **Load and Preprocess the Dataset**"
      ]
    },
    {
      "cell_type": "code",
      "execution_count": null,
      "metadata": {
        "id": "D94wKPYkRo4C"
      },
      "outputs": [],
      "source": [
        "# Dictionary containing all of Shakespeare's works present in the text\n",
        "contents = {\n",
        "    \"THE SONNETS\": \"\",\n",
        "    \"ALL'S WELL THAT ENDS WELL\": \"\",\n",
        "    \"THE TRAGEDY OF ANTONY AND CLEOPATRA\": \"\",\n",
        "    \"AS YOU LIKE IT\": \"\",\n",
        "    \"THE COMEDY OF ERRORS\": \"\",\n",
        "    \"THE TRAGEDY OF CORIOLANUS\": \"\",\n",
        "    \"CYMBELINE\": \"\",\n",
        "    \"THE TRAGEDY OF HAMLET, PRINCE OF DENMARK\": \"\",\n",
        "    \"THE FIRST PART OF KING HENRY THE FOURTH\": \"\",\n",
        "    \"THE SECOND PART OF KING HENRY THE FOURTH\": \"\",\n",
        "    \"THE LIFE OF KING HENRY THE FIFTH\": \"\",\n",
        "    \"THE FIRST PART OF HENRY THE SIXTH\": \"\",\n",
        "    \"THE SECOND PART OF KING HENRY THE SIXTH\": \"\",\n",
        "    \"THE THIRD PART OF KING HENRY THE SIXTH\": \"\",\n",
        "    \"KING HENRY THE EIGHTH\": \"\",\n",
        "    \"THE LIFE AND DEATH OF KING JOHN\": \"\",\n",
        "    \"THE TRAGEDY OF JULIUS CAESAR\": \"\",\n",
        "    \"THE TRAGEDY OF KING LEAR\": \"\",\n",
        "    \"LOVE'S LABOUR'S LOST\": \"\",\n",
        "    \"THE TRAGEDY OF MACBETH\": \"\",\n",
        "    \"MEASURE FOR MEASURE\": \"\",\n",
        "    \"THE MERCHANT OF VENICE\": \"\",\n",
        "    \"THE MERRY WIVES OF WINDSOR\": \"\",\n",
        "    \"A MIDSUMMER NIGHT'S DREAM\": \"\",\n",
        "    \"MUCH ADO ABOUT NOTHING\": \"\",\n",
        "    \"THE TRAGEDY OF OTHELLO, THE MOOR OF VENICE\": \"\",\n",
        "    \"PERICLES, PRINCE OF TYRE\": \"\",\n",
        "    \"KING RICHARD THE SECOND\": \"\",\n",
        "    \"KING RICHARD THE THIRD\": \"\",\n",
        "    \"THE TRAGEDY OF ROMEO AND JULIET\": \"\",\n",
        "    \"THE TAMING OF THE SHREW\": \"\",\n",
        "    \"THE TEMPEST\": \"\",\n",
        "    \"THE LIFE OF TIMON OF ATHENS\": \"\",\n",
        "    \"THE TRAGEDY OF TITUS ANDRONICUS\": \"\",\n",
        "    \"TROILUS AND CRESSIDA\": \"\",\n",
        "    \"TWELFTH NIGHT; OR, WHAT YOU WILL\": \"\",\n",
        "    \"THE TWO GENTLEMEN OF VERONA\": \"\",\n",
        "    \"THE TWO NOBLE KINSMEN\": \"\",\n",
        "    \"THE WINTER'S TALE\": \"\",\n",
        "    \"A LOVER'S COMPLAINT\": \"\",\n",
        "    \"THE PASSIONATE PILGRIM\": \"\",\n",
        "    \"THE PHOENIX AND THE TURTLE\": \"\",\n",
        "    \"THE RAPE OF LUCRECE\": \"\",\n",
        "    \"VENUS AND ADONIS\": \"\",\n",
        "    \"FINIS\": \"\" #Key added to mark the completion of all works\n",
        "}"
      ]
    },
    {
      "cell_type": "code",
      "execution_count": null,
      "metadata": {
        "colab": {
          "base_uri": "https://localhost:8080/"
        },
        "id": "FE5KLZPR9hTJ",
        "outputId": "9a728cc6-a156-4fd1-aded-846991c19f12"
      },
      "outputs": [
        {
          "name": "stdout",
          "output_type": "stream",
          "text": [
            "Total lines in the text: 153571\n",
            "\n",
            "Some lines:\n",
            "['THE SONNETS', '1', 'From fairest creatures we desire increase,', \"That thereby beauty's rose might never die,\", 'But as the riper should by time decease,']\n",
            "['Their mistress mounted through the empty skies,', \"In her light chariot quickly is convey'd;           1192\", 'Holding their course to Paphos, where their queen', 'Means to immure herself and not be seen.', 'FINIS']\n",
            "\n",
            "\n",
            "Text Extract:\n",
            "\n",
            "THE SONNETS\n",
            "1\n",
            "From fairest creatures we desire increase,\n",
            "That thereby beauty's rose might never die,\n",
            "But as the riper should by time decease,\n",
            "His tender heir might bear his memory:\n",
            "But thou contracted to thine own bright eyes,\n",
            "Feed'st thy light's flame with self-substantial fuel,\n",
            "Making a famine where abundance lies,\n",
            "Thyself thy foe, to thy sweet self too cruel:\n",
            "Thou that art now the world's fresh ornament,\n",
            "And only herald to the gaudy spring,\n",
            "Within thine own bud buriest thy content,\n",
            "And, tender churl, mak'st waste in niggarding:\n",
            "Pity the world, or else this glutton be,\n",
            "To eat the world's due, by the grave and thee.\n",
            "2\n",
            "When forty winters shall besiege thy brow,\n",
            "And dig deep trenches in thy beauty's field,\n",
            "Thy youth's proud livery so gazed on now,\n"
          ]
        }
      ],
      "source": [
        "# Download the dataset\n",
        "dataset_path = tf.keras.utils.get_file(\n",
        "    fname=\"shakespeare.txt\",\n",
        "    origin=\"https://www.gutenberg.org/cache/epub/100/pg100.txt\"\n",
        ")\n",
        "\n",
        "# Read the dataset\n",
        "lines_text = []\n",
        "with open(dataset_path, \"r\") as file:\n",
        "  for line in file:\n",
        "    # Remove excessive line breaks and whitespace\n",
        "    line = line.strip()\n",
        "    if line:\n",
        "      # Replace the typographic apostrophe with the straight one to standardize the text\n",
        "      lines_text.append(line.replace(\"’\", \"'\"))\n",
        "\n",
        "# Fill the values of 'contents' with the starting indices of each work\n",
        "keys = list(contents.keys())\n",
        "for k in range(len(keys)):\n",
        "  id_start = [i for i, line in enumerate(lines_text) if keys[k] in line][-1]\n",
        "  if k < len(keys) - 1:\n",
        "    id_end = [i for i, line in enumerate(lines_text) if keys[k+1] in line][-1]\n",
        "  else:\n",
        "    id_end = id_start + 1\n",
        "\n",
        "  contents[keys[k]] = (id_start, id_end)\n",
        "\n",
        "# In this case, all of Shakespeare's works are taken\n",
        "line_start = contents[\"THE SONNETS\"][0]\n",
        "line_end = contents[\"FINIS\"][1]\n",
        "lines_text = lines_text[line_start:line_end]\n",
        "\n",
        "# View an excerpt of Shakespeare's text\n",
        "print(f\"Total lines in the text: {len(lines_text)}\\n\")\n",
        "print(f\"Some lines:\\n{lines_text[:5]}\\n{lines_text[-5:]}\\n\\n\")\n",
        "\n",
        "# View an excerpt of Shakespeare's text\n",
        "example = \"\\n\".join(lines_text[:20]) # Join the lines into a single text\n",
        "print(f\"Text Extract:\\n\\n{example}\")"
      ]
    },
    {
      "cell_type": "markdown",
      "metadata": {
        "id": "GcTHo3vVVrv9"
      },
      "source": [
        "### **Text Tokenization**"
      ]
    },
    {
      "cell_type": "code",
      "execution_count": 5,
      "metadata": {
        "colab": {
          "base_uri": "https://localhost:8080/"
        },
        "id": "lnzQYV3xfcjH",
        "outputId": "20474b65-2fb7-46c1-d790-a09cffa3a472"
      },
      "outputs": [
        {
          "data": {
            "text/plain": [
              "GPT2TokenizerFast(name_or_path='distilgpt2', vocab_size=50257, model_max_length=1024, is_fast=True, padding_side='right', truncation_side='right', special_tokens={'bos_token': '<|endoftext|>', 'eos_token': '<|endoftext|>', 'unk_token': '<|endoftext|>'}, clean_up_tokenization_spaces=True),  added_tokens_decoder={\n",
              "\t50256: AddedToken(\"<|endoftext|>\", rstrip=False, lstrip=False, single_word=False, normalized=True, special=True),\n",
              "}"
            ]
          },
          "execution_count": 5,
          "metadata": {},
          "output_type": "execute_result"
        }
      ],
      "source": [
        "# 'use_fast=True': improves the tokenizer's performance when processing large volumes of text\n",
        "tokenizer = AutoTokenizer.from_pretrained(model_name, use_fast=True)\n",
        "tokenizer"
      ]
    },
    {
      "cell_type": "code",
      "execution_count": null,
      "metadata": {
        "colab": {
          "base_uri": "https://localhost:8080/"
        },
        "id": "k5kXKEOSmTIQ",
        "outputId": "2b975690-ef05-4a40-d574-566cd1bc2cf0"
      },
      "outputs": [
        {
          "name": "stdout",
          "output_type": "stream",
          "text": [
            "Input Ids:\n",
            " [10970, 311, 1340, 12884, 50, 198, 16, 198, 4863, 37063, 301, 8109, 356, 6227, 2620, 11, 198, 2504, 12839, 8737, 338, 8278, 1244, 1239, 4656, 11, 198, 1537, 355, 262, 374, 9346, 815, 416, 640, 12738, 589, 11, 198, 6653, 15403, 28625, 1244, 6842, 465, 4088, 25, 198, 1537, 14210, 23407, 284, 294, 500, 898, 6016, 2951, 11, 198, 18332, 338, 83, 11906, 1657, 338, 16506, 351, 2116, 12, 7266, 41321, 5252, 11, 198, 23874, 257, 31261, 810, 20038, 7363, 11, 198, 817, 88, 944, 11906, 22156, 11, 284, 11906, 6029, 2116, 1165, 12177, 25, 198, 817, 280, 326, 1242, 783, 262, 995, 338, 4713, 45618, 11, 198, 1870, 691, 28783, 284, 262, 308, 3885, 88, 6076, 11, 198, 22005, 294, 500, 898, 3600, 4356, 6386, 11906, 2695, 11, 198, 1870, 11, 15403, 442, 6371, 11, 285, 461, 338, 83, 7030, 287, 299, 6950, 13493, 25, 198, 47, 414, 262, 995, 11, 393, 2073, 428, 1278, 21115, 307, 11, 198, 2514, 4483, 262, 995, 338, 2233, 11, 416, 262, 12296, 290, 17903, 13, 198, 17, 198, 2215, 16571, 45764, 2236, 7284, 14566, 11906, 4772, 11, 198, 1870, 3100, 2769, 40068, 287, 11906, 8737, 338, 2214, 11, 198, 817, 88, 6205, 338, 6613, 300, 6315, 523, 50255, 319, 783, 11] \n",
            "\n",
            "Tokens:\n",
            " ['THE', 'ĠS', 'ON', 'NET', 'S', 'Ċ', '1', 'Ċ', 'From', 'Ġfaire', 'st', 'Ġcreatures', 'Ġwe', 'Ġdesire', 'Ġincrease', ',', 'Ċ', 'That', 'Ġthereby', 'Ġbeauty', \"'s\", 'Ġrose', 'Ġmight', 'Ġnever', 'Ġdie', ',', 'Ċ', 'But', 'Ġas', 'Ġthe', 'Ġr', 'iper', 'Ġshould', 'Ġby', 'Ġtime', 'Ġdece', 'ase', ',', 'Ċ', 'His', 'Ġtender', 'Ġheir', 'Ġmight', 'Ġbear', 'Ġhis', 'Ġmemory', ':', 'Ċ', 'But', 'Ġthou', 'Ġcontracted', 'Ġto', 'Ġth', 'ine', 'Ġown', 'Ġbright', 'Ġeyes', ',', 'Ċ', 'Feed', \"'s\", 't', 'Ġthy', 'Ġlight', \"'s\", 'Ġflame', 'Ġwith', 'Ġself', '-', 'sub', 'stantial', 'Ġfuel', ',', 'Ċ', 'Making', 'Ġa', 'Ġfamine', 'Ġwhere', 'Ġabundance', 'Ġlies', ',', 'Ċ', 'Th', 'y', 'self', 'Ġthy', 'Ġfoe', ',', 'Ġto', 'Ġthy', 'Ġsweet', 'Ġself', 'Ġtoo', 'Ġcruel', ':', 'Ċ', 'Th', 'ou', 'Ġthat', 'Ġart', 'Ġnow', 'Ġthe', 'Ġworld', \"'s\", 'Ġfresh', 'Ġornament', ',', 'Ċ', 'And', 'Ġonly', 'Ġherald', 'Ġto', 'Ġthe', 'Ġg', 'aud', 'y', 'Ġspring', ',', 'Ċ', 'Within', 'Ġth', 'ine', 'Ġown', 'Ġbud', 'Ġbur', 'iest', 'Ġthy', 'Ġcontent', ',', 'Ċ', 'And', ',', 'Ġtender', 'Ġch', 'url', ',', 'Ġm', 'ak', \"'s\", 't', 'Ġwaste', 'Ġin', 'Ġn', 'igg', 'arding', ':', 'Ċ', 'P', 'ity', 'Ġthe', 'Ġworld', ',', 'Ġor', 'Ġelse', 'Ġthis', 'Ġgl', 'utton', 'Ġbe', ',', 'Ċ', 'To', 'Ġeat', 'Ġthe', 'Ġworld', \"'s\", 'Ġdue', ',', 'Ġby', 'Ġthe', 'Ġgrave', 'Ġand', 'Ġthee', '.', 'Ċ', '2', 'Ċ', 'When', 'Ġforty', 'Ġwinters', 'Ġshall', 'Ġbes', 'iege', 'Ġthy', 'Ġbrow', ',', 'Ċ', 'And', 'Ġdig', 'Ġdeep', 'Ġtrenches', 'Ġin', 'Ġthy', 'Ġbeauty', \"'s\", 'Ġfield', ',', 'Ċ', 'Th', 'y', 'Ġyouth', \"'s\", 'Ġproud', 'Ġl', 'ivery', 'Ġso', 'Ġgazed', 'Ġon', 'Ġnow', ','] \n",
            "\n",
            "Decoded Text:\n",
            "THE SONNETS\n",
            "1\n",
            "From fairest creatures we desire increase,\n",
            "That thereby beauty's rose might never die,\n",
            "But as the riper should by time decease,\n",
            "His tender heir might bear his memory:\n",
            "But thou contracted to thine own bright eyes,\n",
            "Feed'st thy light's flame with self-substantial fuel,\n",
            "Making a famine where abundance lies,\n",
            "Thyself thy foe, to thy sweet self too cruel:\n",
            "Thou that art now the world's fresh ornament,\n",
            "And only herald to the gaudy spring,\n",
            "Within thine own bud buriest thy content,\n",
            "And, tender churl, mak'st waste in niggarding:\n",
            "Pity the world, or else this glutton be,\n",
            "To eat the world's due, by the grave and thee.\n",
            "2\n",
            "When forty winters shall besiege thy brow,\n",
            "And dig deep trenches in thy beauty's field,\n",
            "Thy youth's proud livery so gazed on now,\n",
            "\n",
            "\n",
            "Attention Mask:\n",
            " [1, 1, 1, 1, 1, 1, 1, 1, 1, 1, 1, 1, 1, 1, 1, 1, 1, 1, 1, 1, 1, 1, 1, 1, 1, 1, 1, 1, 1, 1, 1, 1, 1, 1, 1, 1, 1, 1, 1, 1, 1, 1, 1, 1, 1, 1, 1, 1, 1, 1, 1, 1, 1, 1, 1, 1, 1, 1, 1, 1, 1, 1, 1, 1, 1, 1, 1, 1, 1, 1, 1, 1, 1, 1, 1, 1, 1, 1, 1, 1, 1, 1, 1, 1, 1, 1, 1, 1, 1, 1, 1, 1, 1, 1, 1, 1, 1, 1, 1, 1, 1, 1, 1, 1, 1, 1, 1, 1, 1, 1, 1, 1, 1, 1, 1, 1, 1, 1, 1, 1, 1, 1, 1, 1, 1, 1, 1, 1, 1, 1, 1, 1, 1, 1, 1, 1, 1, 1, 1, 1, 1, 1, 1, 1, 1, 1, 1, 1, 1, 1, 1, 1, 1, 1, 1, 1, 1, 1, 1, 1, 1, 1, 1, 1, 1, 1, 1, 1, 1, 1, 1, 1, 1, 1, 1, 1, 1, 1, 1, 1, 1, 1, 1, 1, 1, 1, 1, 1, 1, 1, 1, 1, 1, 1, 1, 1, 1, 1, 1, 1, 1, 1, 1, 1, 1, 1, 1, 1, 1]\n"
          ]
        }
      ],
      "source": [
        "# Example of tokenization\n",
        "\n",
        "encoding = tokenizer(example)\n",
        "\n",
        "input_ids = encoding[\"input_ids\"]\n",
        "print(\"Input Ids:\\n\", input_ids, \"\\n\")\n",
        "print(\"Tokens:\\n\", tokenizer.convert_ids_to_tokens(input_ids), \"\\n\")\n",
        "print(f\"Decoded Text:\\n{tokenizer.decode(input_ids)}\\n\\n\")\n",
        "\n",
        "print(\"Attention Mask:\\n\", encoding[\"attention_mask\"])"
      ]
    },
    {
      "cell_type": "markdown",
      "metadata": {
        "id": "3turIAQCcQAw"
      },
      "source": [
        "### **Create the Training and Evaluation Datasets**\n",
        "\n",
        "In this case, it is not necessary to convert the datasets to the TFRecord format since both the dataset and the model are small. It is sufficient to convert it to the `tf.data.Dataset.from_tensor_slices` format."
      ]
    },
    {
      "cell_type": "code",
      "execution_count": null,
      "metadata": {
        "id": "3aA9E59Xhoj3"
      },
      "outputs": [],
      "source": [
        "def create_datasets(lines_text, val_size=0.1):\n",
        "  def split_input_label(input_ids, attention_mask):\n",
        "    inputs = input_ids[:-1]\n",
        "    labels = input_ids[1:] #The 'labels' are simply the 'ids' shifted one position to the right\n",
        "    return (inputs, attention_mask[:-1]), labels\n",
        "\n",
        "  N = int(len(lines_text) * val_size)\n",
        "  train_dataset = \"\\n\".join(lines_text[:-N])\n",
        "  val_dataset = \"\\n\".join(lines_text[-N:])\n",
        "  train_dataset = tokenizer(train_dataset)\n",
        "  val_dataset = tokenizer(val_dataset)\n",
        "\n",
        "  train_dataset = tf.data.Dataset.from_tensor_slices(\n",
        "      (train_dataset[\"input_ids\"], train_dataset[\"attention_mask\"])\n",
        "  )\n",
        "  val_dataset = tf.data.Dataset.from_tensor_slices(\n",
        "      (val_dataset[\"input_ids\"], val_dataset[\"attention_mask\"])\n",
        "  )\n",
        "  train_dataset = train_dataset.batch(seq_length + 1, drop_remainder=True)\n",
        "  val_dataset = val_dataset.batch(seq_length + 1, drop_remainder=True)\n",
        "\n",
        "  train_dataset = (\n",
        "      train_dataset.\n",
        "      map(split_input_label).\n",
        "      shuffle(buffer_size, seed=SEED).\n",
        "      batch(batch_size).\n",
        "      prefetch(AUTOTUNE)\n",
        "  )\n",
        "\n",
        "  val_dataset = (\n",
        "      val_dataset.\n",
        "      map(split_input_label).\n",
        "      batch(batch_size).\n",
        "      prefetch(AUTOTUNE)\n",
        "  )\n",
        "\n",
        "  return train_dataset, val_dataset"
      ]
    },
    {
      "cell_type": "code",
      "execution_count": null,
      "metadata": {
        "colab": {
          "base_uri": "https://localhost:8080/"
        },
        "id": "bZZBsgXV8nyv",
        "outputId": "dbb2fbac-8827-4a91-92d0-0003b2dc09b1"
      },
      "outputs": [
        {
          "name": "stderr",
          "output_type": "stream",
          "text": [
            "Token indices sequence length is longer than the specified maximum sequence length for this model (1426710 > 1024). Running this sequence through the model will result in indexing errors\n"
          ]
        }
      ],
      "source": [
        "train_dataset, val_dataset = create_datasets(lines_text)"
      ]
    },
    {
      "cell_type": "code",
      "execution_count": null,
      "metadata": {
        "colab": {
          "base_uri": "https://localhost:8080/"
        },
        "id": "a67sDlx28sAO",
        "outputId": "1b05adce-df70-474b-a5f1-b8fdb298ffb6"
      },
      "outputs": [
        {
          "name": "stdout",
          "output_type": "stream",
          "text": [
            "tf.Tensor(\n",
            "[[  284   326   886 ...  1581 28182    46]\n",
            " [11633  1683  1842 ...   314  1183  1085]\n",
            " [  673  2921 17903 ...   815   326  8737]\n",
            " ...\n",
            " [ 1169  1944  4167 ...   683    13   198]\n",
            " [ 2937    13   198 ...   286   428    13]\n",
            " [ 3963 19704    49 ...   198  1890   644]], shape=(32, 256), dtype=int32) \n",
            "\n",
            "tf.Tensor(\n",
            "[[1 1 1 ... 1 1 1]\n",
            " [1 1 1 ... 1 1 1]\n",
            " [1 1 1 ... 1 1 1]\n",
            " ...\n",
            " [1 1 1 ... 1 1 1]\n",
            " [1 1 1 ... 1 1 1]\n",
            " [1 1 1 ... 1 1 1]], shape=(32, 256), dtype=int32) \n",
            "\n",
            "tf.Tensor(\n",
            "[[  326   886 13750 ... 28182    46    13]\n",
            " [ 1683  1842   523 ...  1183  1085   345]\n",
            " [ 2921 17903   517 ...   326  8737   543]\n",
            " ...\n",
            " [ 1944  4167    11 ...    13   198 17469]\n",
            " [   13   198 22788 ...   428    13   632]\n",
            " [19704    49  2246 ...  1890   644  1738]], shape=(32, 256), dtype=int32)\n"
          ]
        }
      ],
      "source": [
        "# Viewing a training batch\n",
        "for (ids, masks), labels in train_dataset.take(1):\n",
        "  print(ids, \"\\n\")\n",
        "  print(masks, \"\\n\")\n",
        "  print(labels)"
      ]
    },
    {
      "cell_type": "markdown",
      "metadata": {
        "id": "ey4FxjBKi6ql"
      },
      "source": [
        "## **Creation and Training of the Model**"
      ]
    },
    {
      "cell_type": "code",
      "execution_count": null,
      "metadata": {
        "colab": {
          "base_uri": "https://localhost:8080/"
        },
        "id": "ERMZh1RQ91rT",
        "outputId": "2b1f72f6-fc1e-4eaf-c083-a7b7dc7b320c"
      },
      "outputs": [
        {
          "name": "stdout",
          "output_type": "stream",
          "text": [
            "TPU initialized:\n",
            "All devices:  [LogicalDevice(name='/device:TPU:0', device_type='TPU'), LogicalDevice(name='/device:TPU:1', device_type='TPU'), LogicalDevice(name='/device:TPU:2', device_type='TPU'), LogicalDevice(name='/device:TPU:3', device_type='TPU'), LogicalDevice(name='/device:TPU:4', device_type='TPU'), LogicalDevice(name='/device:TPU:5', device_type='TPU'), LogicalDevice(name='/device:TPU:6', device_type='TPU'), LogicalDevice(name='/device:TPU:7', device_type='TPU')]\n"
          ]
        }
      ],
      "source": [
        "# TPU setup\n",
        "try:\n",
        "  tpu = tf.distribute.cluster_resolver.TPUClusterResolver(tpu=\"local\")\n",
        "  tf.config.experimental_connect_to_cluster(tpu)\n",
        "  tf.tpu.experimental.initialize_tpu_system(tpu)\n",
        "  strategy = tf.distribute.TPUStrategy(tpu)\n",
        "  print(\"TPU initialized:\")\n",
        "  print(\"All devices: \", tf.config.list_logical_devices(\"TPU\"))\n",
        "except ValueError:\n",
        "  print(\"TPU not found\")"
      ]
    },
    {
      "cell_type": "code",
      "execution_count": null,
      "metadata": {
        "id": "A0TH97tt9gaa"
      },
      "outputs": [],
      "source": [
        "# Callback to stop training early if validation loss does not decrease for 2 epochs\n",
        "callback = tf.keras.callbacks.EarlyStopping(\n",
        "    monitor=\"val_loss\",\n",
        "    patience=2,\n",
        "    mode=\"min\",\n",
        "    restore_best_weights=True\n",
        ")"
      ]
    },
    {
      "cell_type": "code",
      "execution_count": null,
      "metadata": {
        "collapsed": true,
        "id": "_X-Vc3NuJZ8u"
      },
      "outputs": [],
      "source": [
        "def create_model():\n",
        "  # Import the AutoModel\n",
        "  model_base = TFAutoModelForCausalLM.from_pretrained(model_name)\n",
        "\n",
        "  input_ids = tf.keras.Input((seq_length, ), dtype=tf.int32)\n",
        "  attention_mask = tf.keras.Input((seq_length, ), dtype=tf.int32)\n",
        "  logits = model_base(input_ids=input_ids, attention_mask=attention_mask).logits\n",
        "\n",
        "  model = tf.keras.Model(inputs=[input_ids, attention_mask], outputs=logits)\n",
        "\n",
        "  return model"
      ]
    },
    {
      "cell_type": "code",
      "execution_count": null,
      "metadata": {
        "colab": {
          "base_uri": "https://localhost:8080/",
          "height": 138,
          "referenced_widgets": [
            "f4e66647ecc54109af23e892cfb86b83",
            "7ad7a620c8a14f98b5a75642c4766485",
            "ca5f9d1c04ed48d996a1d5a5c4a23fca",
            "3ac2a64e36834ae4bfe3547781a6bf50",
            "69d51a0af1934988bcad6eb5f613c5c5",
            "922ffca6b14c4faa94162a4c6c3964df",
            "b04384e7d8104d3e8b4c1552115ca145",
            "d7fd970eb06b44f2a3c0ec0df03a4838",
            "54e4d95924024023a63d9fae4d5cfb99",
            "b44f1eb4d1864317bae4d7d294c3f60b",
            "0b40eed7f21c4676b16f835575385f42"
          ]
        },
        "id": "QszJCJEGqq4M",
        "outputId": "e8629d78-37dd-42fb-f9b8-4d4063343176"
      },
      "outputs": [
        {
          "data": {
            "application/vnd.jupyter.widget-view+json": {
              "model_id": "f4e66647ecc54109af23e892cfb86b83",
              "version_major": 2,
              "version_minor": 0
            },
            "text/plain": [
              "model.safetensors:   0%|          | 0.00/353M [00:00<?, ?B/s]"
            ]
          },
          "metadata": {},
          "output_type": "display_data"
        },
        {
          "name": "stderr",
          "output_type": "stream",
          "text": [
            "All PyTorch model weights were used when initializing TFGPT2LMHeadModel.\n",
            "\n",
            "All the weights of TFGPT2LMHeadModel were initialized from the PyTorch model.\n",
            "If your task is similar to the task the model of the checkpoint was trained on, you can already use TFGPT2LMHeadModel for predictions without further training.\n"
          ]
        }
      ],
      "source": [
        "tf.keras.backend.clear_session() #Clearing Keras memory\n",
        "tf.random.set_seed(123) #For reproducibility\n",
        "\n",
        "# Creation and compilation of the model within the distribution strategy\n",
        "with strategy.scope():\n",
        "  model = create_model()\n",
        "\n",
        "  model.compile(\n",
        "    optimizer=tf.keras.optimizers.AdamW(learning_rate=2e-5, weight_decay=0.01),\n",
        "    loss=tf.keras.losses.SparseCategoricalCrossentropy(from_logits=True)\n",
        ")"
      ]
    },
    {
      "cell_type": "code",
      "execution_count": null,
      "metadata": {
        "colab": {
          "base_uri": "https://localhost:8080/"
        },
        "id": "QTPMWBFD-fnR",
        "outputId": "b22fd3bb-8c24-4d3d-ad94-00f3e7e62450"
      },
      "outputs": [
        {
          "name": "stdout",
          "output_type": "stream",
          "text": [
            "Model: \"model\"\n",
            "__________________________________________________________________________________________________\n",
            " Layer (type)                Output Shape                 Param #   Connected to                  \n",
            "==================================================================================================\n",
            " input_1 (InputLayer)        [(None, 256)]                0         []                            \n",
            "                                                                                                  \n",
            " input_2 (InputLayer)        [(None, 256)]                0         []                            \n",
            "                                                                                                  \n",
            " tfgpt2lm_head_model (TFGPT  TFCausalLMOutputWithCrossA   8191257   ['input_1[0][0]',             \n",
            " 2LMHeadModel)               ttentions(loss=None, logit   6          'input_2[0][0]']             \n",
            "                             s=(None, 256, 50257),                                                \n",
            "                              past_key_values=((2, None                                           \n",
            "                             , 12, 256, 64),                                                      \n",
            "                              (2, None, 12, 256, 64),                                             \n",
            "                              (2, None, 12, 256, 64),                                             \n",
            "                              (2, None, 12, 256, 64),                                             \n",
            "                              (2, None, 12, 256, 64),                                             \n",
            "                              (2, None, 12, 256, 64)),                                            \n",
            "                              hidden_states=None, atten                                           \n",
            "                             tions=None, cross_attentio                                           \n",
            "                             ns=None)                                                             \n",
            "                                                                                                  \n",
            "==================================================================================================\n",
            "Total params: 81912576 (312.47 MB)\n",
            "Trainable params: 81912576 (312.47 MB)\n",
            "Non-trainable params: 0 (0.00 Byte)\n",
            "__________________________________________________________________________________________________\n"
          ]
        }
      ],
      "source": [
        "model.summary()"
      ]
    },
    {
      "cell_type": "code",
      "execution_count": null,
      "metadata": {
        "colab": {
          "base_uri": "https://localhost:8080/",
          "height": 122
        },
        "id": "jy73tsJXiQDa",
        "outputId": "586ec1b4-208d-4ff0-ade1-96e479e05759"
      },
      "outputs": [
        {
          "data": {
            "application/vnd.google.colaboratory.intrinsic+json": {
              "type": "string"
            },
            "text/plain": [
              "' The�.hip.\\n/ by\\n the� too wife, and the from the\\n a. and I sake\\n I brother are the wayceorn are\\n\\n asless be as he am\\nI,, is is has muchifully\\n to, he\\n whichthat he is me,\\nenance, to me him him,\\n is me knownot him him own legs, and, with way of the\\n, and\\n much as I histhe, in he me wayleness, his own.\\n is the, and,\\n\\nthativesves me, and I thing of his life, and\\n\\n\\n the him.\\nandgan to beter, him\\nile.\\n am not longer be this, andand I I will that more man. to make it.\\nAnd the,\\nIV\\n\\nIours, to way, and master,\\nIIGO.\\nI to and and. and I shalt not the I is\\n me..\\nAnd]]ires]]\\nIIVER.\\nI, I,\\n is you think?\\nILANDO.\\nGo is\\n am not a to do a,\\nIIVER.\\nI dories,? is?\\nORLANDO.'"
            ]
          },
          "execution_count": 17,
          "metadata": {},
          "output_type": "execute_result"
        }
      ],
      "source": [
        "# Example of prediction before training the model\n",
        "\n",
        "pred_example = model.predict((ids[0][None, :], masks[0][None, :]), verbose=0)[0]\n",
        "pred_example = np.argmax(pred_example, axis=-1)\n",
        "tokenizer.decode(pred_example)"
      ]
    },
    {
      "cell_type": "markdown",
      "metadata": {
        "id": "4rzkPWRkQppo"
      },
      "source": [
        "It can be observed that before fine-tuning the model, the generated text is not completely random."
      ]
    },
    {
      "cell_type": "code",
      "execution_count": null,
      "metadata": {
        "colab": {
          "base_uri": "https://localhost:8080/"
        },
        "id": "N5cCUE4y-K7x",
        "outputId": "8b2242e5-3498-498a-c82f-ed43797cd743"
      },
      "outputs": [
        {
          "name": "stdout",
          "output_type": "stream",
          "text": [
            "Epoch 1/20\n",
            "174/174 [==============================] - 118s 315ms/step - loss: 4.1207 - val_loss: 4.0907\n",
            "Epoch 2/20\n",
            "174/174 [==============================] - 17s 98ms/step - loss: 3.8803 - val_loss: 4.0205\n",
            "Epoch 3/20\n",
            "174/174 [==============================] - 18s 99ms/step - loss: 3.7789 - val_loss: 3.9807\n",
            "Epoch 4/20\n",
            "174/174 [==============================] - 17s 98ms/step - loss: 3.7100 - val_loss: 3.9568\n",
            "Epoch 5/20\n",
            "174/174 [==============================] - 17s 97ms/step - loss: 3.6585 - val_loss: 3.9366\n",
            "Epoch 6/20\n",
            "174/174 [==============================] - 17s 99ms/step - loss: 3.6167 - val_loss: 3.9200\n",
            "Epoch 7/20\n",
            "174/174 [==============================] - 17s 98ms/step - loss: 3.5807 - val_loss: 3.9033\n",
            "Epoch 8/20\n",
            "174/174 [==============================] - 18s 99ms/step - loss: 3.5498 - val_loss: 3.8951\n",
            "Epoch 9/20\n",
            "174/174 [==============================] - 17s 98ms/step - loss: 3.5220 - val_loss: 3.8890\n",
            "Epoch 10/20\n",
            "174/174 [==============================] - 17s 98ms/step - loss: 3.4967 - val_loss: 3.8748\n",
            "Epoch 11/20\n",
            "174/174 [==============================] - 18s 99ms/step - loss: 3.4722 - val_loss: 3.8661\n",
            "Epoch 12/20\n",
            "174/174 [==============================] - 17s 98ms/step - loss: 3.4505 - val_loss: 3.8629\n",
            "Epoch 13/20\n",
            "174/174 [==============================] - 18s 99ms/step - loss: 3.4295 - val_loss: 3.8554\n",
            "Epoch 14/20\n",
            "174/174 [==============================] - 17s 97ms/step - loss: 3.4111 - val_loss: 3.8487\n",
            "Epoch 15/20\n",
            "174/174 [==============================] - 17s 98ms/step - loss: 3.3923 - val_loss: 3.8470\n",
            "Epoch 16/20\n",
            "174/174 [==============================] - 17s 98ms/step - loss: 3.3743 - val_loss: 3.8395\n",
            "Epoch 17/20\n",
            "174/174 [==============================] - 17s 97ms/step - loss: 3.3576 - val_loss: 3.8409\n",
            "Epoch 18/20\n",
            "174/174 [==============================] - 17s 98ms/step - loss: 3.3408 - val_loss: 3.8372\n",
            "Epoch 19/20\n",
            "174/174 [==============================] - 17s 98ms/step - loss: 3.3251 - val_loss: 3.8303\n",
            "Epoch 20/20\n",
            "174/174 [==============================] - 17s 98ms/step - loss: 3.3099 - val_loss: 3.8304\n"
          ]
        }
      ],
      "source": [
        "# Train the model\n",
        "\n",
        "tf.random.set_seed(SEED)\n",
        "history = model.fit(train_dataset, epochs=epochs, validation_data=val_dataset)"
      ]
    },
    {
      "cell_type": "markdown",
      "metadata": {
        "id": "S7cewteBIwua"
      },
      "source": [
        "**Save model**"
      ]
    },
    {
      "cell_type": "code",
      "execution_count": 6,
      "metadata": {
        "id": "kHF6iPebtijl"
      },
      "outputs": [],
      "source": [
        "trained_model_path = \"/content/drive/MyDrive/models/CausalLM_DistilGPT2_Shakespeare\""
      ]
    },
    {
      "cell_type": "code",
      "execution_count": null,
      "metadata": {
        "id": "gJ1Ww4BMaIfQ"
      },
      "outputs": [],
      "source": [
        "model.layers[2].save_pretrained(trained_model_path)"
      ]
    },
    {
      "cell_type": "markdown",
      "metadata": {
        "id": "WSJL2EanOvQH"
      },
      "source": [
        "## **Model Evaluation**"
      ]
    },
    {
      "cell_type": "code",
      "execution_count": null,
      "metadata": {
        "colab": {
          "base_uri": "https://localhost:8080/"
        },
        "id": "AqiH23RuAZ1J",
        "outputId": "21d69675-f979-496e-e8cd-83843a6a474b"
      },
      "outputs": [
        {
          "name": "stdout",
          "output_type": "stream",
          "text": [
            "Training Dataset:\n",
            "Loss: 3.1728694438934326\tPerplexity: 23.87589670278736\n",
            "\n",
            "Validation Dataset:\n",
            "Loss: 3.8304426670074463\tPerplexity: 46.08293311390714\n"
          ]
        }
      ],
      "source": [
        "loss_train = model.evaluate(train_dataset, verbose=0)\n",
        "loss_val = model.evaluate(val_dataset, verbose=0)\n",
        "print(f\"Training Dataset:\\nLoss: {loss_train}\\tPerplexity: {np.exp(loss_train)}\\n\")\n",
        "print(f\"Validation Dataset:\\nLoss: {loss_val}\\tPerplexity: {np.exp(loss_val)}\")"
      ]
    },
    {
      "cell_type": "code",
      "execution_count": null,
      "metadata": {
        "id": "S0Dl-vzNaZD4"
      },
      "outputs": [],
      "source": [
        "# Function to plot the metrics\n",
        "def plot_metrics(history=history, metric=\"loss\", renderer=None, epochs=len(history.history[\"loss\"])):\n",
        "  losses = history.history[metric]\n",
        "  val_losses = history.history[f\"val_{metric}\"]\n",
        "  list_epochs = np.arange(1, epochs+1)\n",
        "  metric = \" \".join([w.capitalize() for w in metric.split(\"_\")])\n",
        "\n",
        "  fig=go.Figure()\n",
        "  fig.add_trace(go.Scatter(x=list_epochs, y=losses, name=metric, line=dict(color=\"blue\", width=2)))\n",
        "  fig.add_trace(go.Scatter(x=list_epochs, y=val_losses, name=f\"Val {metric}\", line=dict(color=\"#FF6600\", width=2)))\n",
        "  fig.update_xaxes(title_text=\"Epoch\")\n",
        "  fig.update_yaxes(title_text=metric)\n",
        "  fig.update_layout(title=f\"Evolution of {metric} across Epochs\",\n",
        "                    title_font=dict(size=20),\n",
        "                    title_x=0.5,\n",
        "                    height=500,\n",
        "                    width=1200)\n",
        "\n",
        "  fig.show(renderer)"
      ]
    },
    {
      "cell_type": "markdown",
      "metadata": {
        "id": "Zbmblu4ZuQoO"
      },
      "source": [
        "**Interactive graphics**"
      ]
    },
    {
      "cell_type": "code",
      "execution_count": null,
      "metadata": {
        "colab": {
          "base_uri": "https://localhost:8080/",
          "height": 537
        },
        "id": "K9_fscW1bBUJ",
        "outputId": "6b092e57-46af-4724-cd9d-8e72689a52bf"
      },
      "outputs": [
        {
          "data": {
            "text/html": [
              "<html>\n",
              "<head><meta charset=\"utf-8\" /></head>\n",
              "<body>\n",
              "    <div>            <script src=\"https://cdnjs.cloudflare.com/ajax/libs/mathjax/2.7.5/MathJax.js?config=TeX-AMS-MML_SVG\"></script><script type=\"text/javascript\">if (window.MathJax && window.MathJax.Hub && window.MathJax.Hub.Config) {window.MathJax.Hub.Config({SVG: {font: \"STIX-Web\"}});}</script>                <script type=\"text/javascript\">window.PlotlyConfig = {MathJaxConfig: 'local'};</script>\n",
              "        <script charset=\"utf-8\" src=\"https://cdn.plot.ly/plotly-2.24.1.min.js\"></script>                <div id=\"588ae590-88ed-4be5-9749-0477c02c924c\" class=\"plotly-graph-div\" style=\"height:500px; width:1200px;\"></div>            <script type=\"text/javascript\">                                    window.PLOTLYENV=window.PLOTLYENV || {};                                    if (document.getElementById(\"588ae590-88ed-4be5-9749-0477c02c924c\")) {                    Plotly.newPlot(                        \"588ae590-88ed-4be5-9749-0477c02c924c\",                        [{\"line\":{\"color\":\"blue\",\"width\":2},\"name\":\"Loss\",\"x\":[1,2,3,4,5,6,7,8,9,10,11,12,13,14,15,16,17,18,19,20],\"y\":[4.120730400085449,3.880260467529297,3.7788736820220947,3.7099692821502686,3.658456563949585,3.6167454719543457,3.5807044506073,3.549830436706543,3.5220115184783936,3.496687650680542,3.472217082977295,3.4505293369293213,3.429503917694092,3.411057710647583,3.3922536373138428,3.374336004257202,3.3575854301452637,3.340764284133911,3.3251426219940186,3.3099353313446045],\"type\":\"scatter\"},{\"line\":{\"color\":\"#FF6600\",\"width\":2},\"name\":\"Val Loss\",\"x\":[1,2,3,4,5,6,7,8,9,10,11,12,13,14,15,16,17,18,19,20],\"y\":[4.090676307678223,4.020491600036621,3.980724334716797,3.956846237182617,3.936600685119629,3.9199867248535156,3.9033405780792236,3.895052433013916,3.889033317565918,3.8747951984405518,3.866105794906616,3.8628880977630615,3.855407238006592,3.848745107650757,3.846996307373047,3.8395323753356934,3.8408830165863037,3.837207794189453,3.8303043842315674,3.8304426670074463],\"type\":\"scatter\"}],                        {\"template\":{\"data\":{\"histogram2dcontour\":[{\"type\":\"histogram2dcontour\",\"colorbar\":{\"outlinewidth\":0,\"ticks\":\"\"},\"colorscale\":[[0.0,\"#0d0887\"],[0.1111111111111111,\"#46039f\"],[0.2222222222222222,\"#7201a8\"],[0.3333333333333333,\"#9c179e\"],[0.4444444444444444,\"#bd3786\"],[0.5555555555555556,\"#d8576b\"],[0.6666666666666666,\"#ed7953\"],[0.7777777777777778,\"#fb9f3a\"],[0.8888888888888888,\"#fdca26\"],[1.0,\"#f0f921\"]]}],\"choropleth\":[{\"type\":\"choropleth\",\"colorbar\":{\"outlinewidth\":0,\"ticks\":\"\"}}],\"histogram2d\":[{\"type\":\"histogram2d\",\"colorbar\":{\"outlinewidth\":0,\"ticks\":\"\"},\"colorscale\":[[0.0,\"#0d0887\"],[0.1111111111111111,\"#46039f\"],[0.2222222222222222,\"#7201a8\"],[0.3333333333333333,\"#9c179e\"],[0.4444444444444444,\"#bd3786\"],[0.5555555555555556,\"#d8576b\"],[0.6666666666666666,\"#ed7953\"],[0.7777777777777778,\"#fb9f3a\"],[0.8888888888888888,\"#fdca26\"],[1.0,\"#f0f921\"]]}],\"heatmap\":[{\"type\":\"heatmap\",\"colorbar\":{\"outlinewidth\":0,\"ticks\":\"\"},\"colorscale\":[[0.0,\"#0d0887\"],[0.1111111111111111,\"#46039f\"],[0.2222222222222222,\"#7201a8\"],[0.3333333333333333,\"#9c179e\"],[0.4444444444444444,\"#bd3786\"],[0.5555555555555556,\"#d8576b\"],[0.6666666666666666,\"#ed7953\"],[0.7777777777777778,\"#fb9f3a\"],[0.8888888888888888,\"#fdca26\"],[1.0,\"#f0f921\"]]}],\"heatmapgl\":[{\"type\":\"heatmapgl\",\"colorbar\":{\"outlinewidth\":0,\"ticks\":\"\"},\"colorscale\":[[0.0,\"#0d0887\"],[0.1111111111111111,\"#46039f\"],[0.2222222222222222,\"#7201a8\"],[0.3333333333333333,\"#9c179e\"],[0.4444444444444444,\"#bd3786\"],[0.5555555555555556,\"#d8576b\"],[0.6666666666666666,\"#ed7953\"],[0.7777777777777778,\"#fb9f3a\"],[0.8888888888888888,\"#fdca26\"],[1.0,\"#f0f921\"]]}],\"contourcarpet\":[{\"type\":\"contourcarpet\",\"colorbar\":{\"outlinewidth\":0,\"ticks\":\"\"}}],\"contour\":[{\"type\":\"contour\",\"colorbar\":{\"outlinewidth\":0,\"ticks\":\"\"},\"colorscale\":[[0.0,\"#0d0887\"],[0.1111111111111111,\"#46039f\"],[0.2222222222222222,\"#7201a8\"],[0.3333333333333333,\"#9c179e\"],[0.4444444444444444,\"#bd3786\"],[0.5555555555555556,\"#d8576b\"],[0.6666666666666666,\"#ed7953\"],[0.7777777777777778,\"#fb9f3a\"],[0.8888888888888888,\"#fdca26\"],[1.0,\"#f0f921\"]]}],\"surface\":[{\"type\":\"surface\",\"colorbar\":{\"outlinewidth\":0,\"ticks\":\"\"},\"colorscale\":[[0.0,\"#0d0887\"],[0.1111111111111111,\"#46039f\"],[0.2222222222222222,\"#7201a8\"],[0.3333333333333333,\"#9c179e\"],[0.4444444444444444,\"#bd3786\"],[0.5555555555555556,\"#d8576b\"],[0.6666666666666666,\"#ed7953\"],[0.7777777777777778,\"#fb9f3a\"],[0.8888888888888888,\"#fdca26\"],[1.0,\"#f0f921\"]]}],\"mesh3d\":[{\"type\":\"mesh3d\",\"colorbar\":{\"outlinewidth\":0,\"ticks\":\"\"}}],\"scatter\":[{\"fillpattern\":{\"fillmode\":\"overlay\",\"size\":10,\"solidity\":0.2},\"type\":\"scatter\"}],\"parcoords\":[{\"type\":\"parcoords\",\"line\":{\"colorbar\":{\"outlinewidth\":0,\"ticks\":\"\"}}}],\"scatterpolargl\":[{\"type\":\"scatterpolargl\",\"marker\":{\"colorbar\":{\"outlinewidth\":0,\"ticks\":\"\"}}}],\"bar\":[{\"error_x\":{\"color\":\"#2a3f5f\"},\"error_y\":{\"color\":\"#2a3f5f\"},\"marker\":{\"line\":{\"color\":\"#E5ECF6\",\"width\":0.5},\"pattern\":{\"fillmode\":\"overlay\",\"size\":10,\"solidity\":0.2}},\"type\":\"bar\"}],\"scattergeo\":[{\"type\":\"scattergeo\",\"marker\":{\"colorbar\":{\"outlinewidth\":0,\"ticks\":\"\"}}}],\"scatterpolar\":[{\"type\":\"scatterpolar\",\"marker\":{\"colorbar\":{\"outlinewidth\":0,\"ticks\":\"\"}}}],\"histogram\":[{\"marker\":{\"pattern\":{\"fillmode\":\"overlay\",\"size\":10,\"solidity\":0.2}},\"type\":\"histogram\"}],\"scattergl\":[{\"type\":\"scattergl\",\"marker\":{\"colorbar\":{\"outlinewidth\":0,\"ticks\":\"\"}}}],\"scatter3d\":[{\"type\":\"scatter3d\",\"line\":{\"colorbar\":{\"outlinewidth\":0,\"ticks\":\"\"}},\"marker\":{\"colorbar\":{\"outlinewidth\":0,\"ticks\":\"\"}}}],\"scattermapbox\":[{\"type\":\"scattermapbox\",\"marker\":{\"colorbar\":{\"outlinewidth\":0,\"ticks\":\"\"}}}],\"scatterternary\":[{\"type\":\"scatterternary\",\"marker\":{\"colorbar\":{\"outlinewidth\":0,\"ticks\":\"\"}}}],\"scattercarpet\":[{\"type\":\"scattercarpet\",\"marker\":{\"colorbar\":{\"outlinewidth\":0,\"ticks\":\"\"}}}],\"carpet\":[{\"aaxis\":{\"endlinecolor\":\"#2a3f5f\",\"gridcolor\":\"white\",\"linecolor\":\"white\",\"minorgridcolor\":\"white\",\"startlinecolor\":\"#2a3f5f\"},\"baxis\":{\"endlinecolor\":\"#2a3f5f\",\"gridcolor\":\"white\",\"linecolor\":\"white\",\"minorgridcolor\":\"white\",\"startlinecolor\":\"#2a3f5f\"},\"type\":\"carpet\"}],\"table\":[{\"cells\":{\"fill\":{\"color\":\"#EBF0F8\"},\"line\":{\"color\":\"white\"}},\"header\":{\"fill\":{\"color\":\"#C8D4E3\"},\"line\":{\"color\":\"white\"}},\"type\":\"table\"}],\"barpolar\":[{\"marker\":{\"line\":{\"color\":\"#E5ECF6\",\"width\":0.5},\"pattern\":{\"fillmode\":\"overlay\",\"size\":10,\"solidity\":0.2}},\"type\":\"barpolar\"}],\"pie\":[{\"automargin\":true,\"type\":\"pie\"}]},\"layout\":{\"autotypenumbers\":\"strict\",\"colorway\":[\"#636efa\",\"#EF553B\",\"#00cc96\",\"#ab63fa\",\"#FFA15A\",\"#19d3f3\",\"#FF6692\",\"#B6E880\",\"#FF97FF\",\"#FECB52\"],\"font\":{\"color\":\"#2a3f5f\"},\"hovermode\":\"closest\",\"hoverlabel\":{\"align\":\"left\"},\"paper_bgcolor\":\"white\",\"plot_bgcolor\":\"#E5ECF6\",\"polar\":{\"bgcolor\":\"#E5ECF6\",\"angularaxis\":{\"gridcolor\":\"white\",\"linecolor\":\"white\",\"ticks\":\"\"},\"radialaxis\":{\"gridcolor\":\"white\",\"linecolor\":\"white\",\"ticks\":\"\"}},\"ternary\":{\"bgcolor\":\"#E5ECF6\",\"aaxis\":{\"gridcolor\":\"white\",\"linecolor\":\"white\",\"ticks\":\"\"},\"baxis\":{\"gridcolor\":\"white\",\"linecolor\":\"white\",\"ticks\":\"\"},\"caxis\":{\"gridcolor\":\"white\",\"linecolor\":\"white\",\"ticks\":\"\"}},\"coloraxis\":{\"colorbar\":{\"outlinewidth\":0,\"ticks\":\"\"}},\"colorscale\":{\"sequential\":[[0.0,\"#0d0887\"],[0.1111111111111111,\"#46039f\"],[0.2222222222222222,\"#7201a8\"],[0.3333333333333333,\"#9c179e\"],[0.4444444444444444,\"#bd3786\"],[0.5555555555555556,\"#d8576b\"],[0.6666666666666666,\"#ed7953\"],[0.7777777777777778,\"#fb9f3a\"],[0.8888888888888888,\"#fdca26\"],[1.0,\"#f0f921\"]],\"sequentialminus\":[[0.0,\"#0d0887\"],[0.1111111111111111,\"#46039f\"],[0.2222222222222222,\"#7201a8\"],[0.3333333333333333,\"#9c179e\"],[0.4444444444444444,\"#bd3786\"],[0.5555555555555556,\"#d8576b\"],[0.6666666666666666,\"#ed7953\"],[0.7777777777777778,\"#fb9f3a\"],[0.8888888888888888,\"#fdca26\"],[1.0,\"#f0f921\"]],\"diverging\":[[0,\"#8e0152\"],[0.1,\"#c51b7d\"],[0.2,\"#de77ae\"],[0.3,\"#f1b6da\"],[0.4,\"#fde0ef\"],[0.5,\"#f7f7f7\"],[0.6,\"#e6f5d0\"],[0.7,\"#b8e186\"],[0.8,\"#7fbc41\"],[0.9,\"#4d9221\"],[1,\"#276419\"]]},\"xaxis\":{\"gridcolor\":\"white\",\"linecolor\":\"white\",\"ticks\":\"\",\"title\":{\"standoff\":15},\"zerolinecolor\":\"white\",\"automargin\":true,\"zerolinewidth\":2},\"yaxis\":{\"gridcolor\":\"white\",\"linecolor\":\"white\",\"ticks\":\"\",\"title\":{\"standoff\":15},\"zerolinecolor\":\"white\",\"automargin\":true,\"zerolinewidth\":2},\"scene\":{\"xaxis\":{\"backgroundcolor\":\"#E5ECF6\",\"gridcolor\":\"white\",\"linecolor\":\"white\",\"showbackground\":true,\"ticks\":\"\",\"zerolinecolor\":\"white\",\"gridwidth\":2},\"yaxis\":{\"backgroundcolor\":\"#E5ECF6\",\"gridcolor\":\"white\",\"linecolor\":\"white\",\"showbackground\":true,\"ticks\":\"\",\"zerolinecolor\":\"white\",\"gridwidth\":2},\"zaxis\":{\"backgroundcolor\":\"#E5ECF6\",\"gridcolor\":\"white\",\"linecolor\":\"white\",\"showbackground\":true,\"ticks\":\"\",\"zerolinecolor\":\"white\",\"gridwidth\":2}},\"shapedefaults\":{\"line\":{\"color\":\"#2a3f5f\"}},\"annotationdefaults\":{\"arrowcolor\":\"#2a3f5f\",\"arrowhead\":0,\"arrowwidth\":1},\"geo\":{\"bgcolor\":\"white\",\"landcolor\":\"#E5ECF6\",\"subunitcolor\":\"white\",\"showland\":true,\"showlakes\":true,\"lakecolor\":\"white\"},\"title\":{\"x\":0.05},\"mapbox\":{\"style\":\"light\"}}},\"xaxis\":{\"title\":{\"text\":\"Epoch\"}},\"yaxis\":{\"title\":{\"text\":\"Loss\"}},\"title\":{\"text\":\"Evolution of Loss across Epochs\",\"font\":{\"size\":20},\"x\":0.5},\"height\":500,\"width\":1200},                        {\"responsive\": true}                    ).then(function(){\n",
              "                            \n",
              "var gd = document.getElementById('588ae590-88ed-4be5-9749-0477c02c924c');\n",
              "var x = new MutationObserver(function (mutations, observer) {{\n",
              "        var display = window.getComputedStyle(gd).display;\n",
              "        if (!display || display === 'none') {{\n",
              "            console.log([gd, 'removed!']);\n",
              "            Plotly.purge(gd);\n",
              "            observer.disconnect();\n",
              "        }}\n",
              "}});\n",
              "\n",
              "// Listen for the removal of the full notebook cells\n",
              "var notebookContainer = gd.closest('#notebook-container');\n",
              "if (notebookContainer) {{\n",
              "    x.observe(notebookContainer, {childList: true});\n",
              "}}\n",
              "\n",
              "// Listen for the clearing of the current output cell\n",
              "var outputEl = gd.closest('.output');\n",
              "if (outputEl) {{\n",
              "    x.observe(outputEl, {childList: true});\n",
              "}}\n",
              "\n",
              "                        })                };                            </script>        </div>\n",
              "</body>\n",
              "</html>"
            ]
          },
          "metadata": {},
          "output_type": "display_data"
        }
      ],
      "source": [
        "plot_metrics()"
      ]
    },
    {
      "cell_type": "markdown",
      "metadata": {
        "id": "3ZxQzcbFuUaF"
      },
      "source": [
        "**Images for GitHub**"
      ]
    },
    {
      "cell_type": "code",
      "execution_count": null,
      "metadata": {
        "colab": {
          "base_uri": "https://localhost:8080/",
          "height": 409
        },
        "id": "jU2ln7oba0bo",
        "outputId": "57620f12-f68e-4bb7-8952-68a486b05c68"
      },
      "outputs": [
        {
          "data": {
            "image/png": "[encoded data removed]"
          },
          "metadata": {},
          "output_type": "display_data"
        }
      ],
      "source": [
        "plot_metrics(renderer=\"png\")"
      ]
    },
    {
      "cell_type": "markdown",
      "metadata": {
        "id": "9NhEDFT-uiav"
      },
      "source": [
        "## **Text Generation with the Trained Model**"
      ]
    },
    {
      "cell_type": "code",
      "execution_count": 9,
      "metadata": {
        "colab": {
          "base_uri": "https://localhost:8080/"
        },
        "id": "KWo6Im5NNN1e",
        "outputId": "ff0d2feb-7ebf-4cf3-d237-45e9a21f60f9"
      },
      "outputs": [
        {
          "name": "stderr",
          "output_type": "stream",
          "text": [
            "All model checkpoint layers were used when initializing TFGPT2LMHeadModel.\n",
            "\n",
            "All the layers of TFGPT2LMHeadModel were initialized from the model checkpoint at /content/drive/MyDrive/models/CausalLM_DistilGPT2_Shakespeare.\n",
            "If your task is similar to the task the model of the checkpoint was trained on, you can already use TFGPT2LMHeadModel for predictions without further training.\n"
          ]
        }
      ],
      "source": [
        "# Load the trained model\n",
        "tf.keras.backend.clear_session()\n",
        "model = TFAutoModelForCausalLM.from_pretrained(trained_model_path)"
      ]
    },
    {
      "cell_type": "markdown",
      "metadata": {
        "id": "vHJ5C2tZ7PTe"
      },
      "source": [
        "For text generation, Sampling methods such as top-p and top-K are often more effective than Greedy and Beam Search methods, as noted in the following [Hugging Face article](https://huggingface.co/blog/how-to-generate), to produce more natural text and reduce repetitions. Additionally, maintaining text coherence requires crucial adjustment of the ``softmax temperature``. To prevent excessive word repetitions, it is also important to properly configure the n-grams penalty parameter (``no_repeat_ngram_size``). Therefore, in this case, the following parameter values are considered optimal for generating text in the style of Shakespeare:\n",
        "\n",
        "```\n",
        "- temperature = 0.85\n",
        "- top_k = 100\n",
        "- top_p = 0.9\n",
        "- no_repeat_ngram_size = 3\n",
        "```"
      ]
    },
    {
      "cell_type": "code",
      "execution_count": null,
      "metadata": {
        "id": "yvUnOaN2rGvX"
      },
      "outputs": [],
      "source": [
        "def generate_text(prefix=\" \", num_tokens=100, temperature=0.85):\n",
        "  inputs = tokenizer(prefix, return_tensors=\"tf\")\n",
        "\n",
        "  preds = model.generate(\n",
        "      **inputs,\n",
        "      max_length=num_tokens,\n",
        "      do_sample=True, #Activates Sampling for text generation\n",
        "      temperature=temperature,\n",
        "      top_k=100,\n",
        "      top_p=0.9,\n",
        "      no_repeat_ngram_size=3\n",
        "  )\n",
        "\n",
        "  preds = tokenizer.decode(preds[0])\n",
        "  #Replace '\\n' with '<br>' to make the line break visible in HTML format\n",
        "  preds = preds.replace(\"\\n\", \"<br>\")\n",
        "  # Shade the prefix in yellow\n",
        "  preds = f\"<span style='background-color: yellow;'>{preds[:len(prefix)]}</span>{preds[len(prefix):]}\"\n",
        "\n",
        "  display(HTML(f\"<b>GENERATED TEXT:</b><br><br>{preds}\"))"
      ]
    },
    {
      "cell_type": "code",
      "execution_count": null,
      "metadata": {
        "colab": {
          "base_uri": "https://localhost:8080/",
          "height": 486
        },
        "id": "bmW-_mqMu6JN",
        "outputId": "cb24011f-fcb7-4836-d9dc-2d61c77ae61f"
      },
      "outputs": [
        {
          "name": "stderr",
          "output_type": "stream",
          "text": [
            "Setting `pad_token_id` to `eos_token_id`:50256 for open-end generation.\n"
          ]
        },
        {
          "data": {
            "text/html": [
              "<b>GENERATED TEXT:</b><br><br><span style='background-color: yellow;'>King</span>!<br>A plague upon your noble son!<br>Thy brother hath died ere the day<br>He would go along. And now, in triumph,<br>Thou hast buried him, and the rest<br>Do beseech the King to ransom him.<br>[_Exit._]<br>ACT III<br>SCENE I. London. Before the Tower<br>Enter King Richard, Hastings, with the rest of the body,<br>Soldiers, Gloucester, Warwick, Hastings and others.<br>KING RICHARD.<br>Thus standeth these gentlemen: here is my lord.<br>QUEEN MARGARET.<br>What news from the King?<br>KING HENRY.<br>By this day, the King himself hath been sent<br>To this fair assembly, and to the last<br>Where he may claim his life.<br>How far will this be?<br>Queen MARGARIEL.<br>This is so.<br>BUCKINGHAM.<br>With this and this;"
            ],
            "text/plain": [
              "<IPython.core.display.HTML object>"
            ]
          },
          "metadata": {},
          "output_type": "display_data"
        }
      ],
      "source": [
        "generate_text(prefix=\"King\", num_tokens=200)"
      ]
    },
    {
      "cell_type": "code",
      "execution_count": null,
      "metadata": {
        "colab": {
          "base_uri": "https://localhost:8080/",
          "height": 503
        },
        "id": "K740KdpsqfFp",
        "outputId": "083ed0c8-b3eb-4ebf-d92e-26f4c7e30501"
      },
      "outputs": [
        {
          "name": "stderr",
          "output_type": "stream",
          "text": [
            "Setting `pad_token_id` to `eos_token_id`:50256 for open-end generation.\n"
          ]
        },
        {
          "data": {
            "text/html": [
              "<b>GENERATED TEXT:</b><br><br><span style='background-color: yellow;'>Enter, with flourish, the Duke of</span> Clarence.<br>QUEEN ELIZABETH.<br>Hast thou not met me today?<br>DUKE OF SALES.<br>Ay, my good lord, but I never met a prince.<br>PRINCE OF SALISBURY.<br>I will not shake thy hand.<br>DUNCAN.<br>How now? Why, my lord, 'tis as if thou hadst<br>The power to take away my son Edward's crown.<br>Look, I'll have more royal sons than I have.<br>Enter King Henry, Suffolk, the Duchess of Norfolk and<br>Duke of Gloucester.<br>KING RICHARD.<br>Now, Prince, I must to the Queen;<br>And for a fair and honest farewell, I pray thee,<br>This morning, in the presence of my son Richard,<br>Will I to the Duke's house, and the Queen,<br>Wherewith I will stay my gentle Queen, in her presence<br>At Buckingham Palace.<br>[_Exeunt._]<br>SCENE IV. The Palace of Westminster.<br>Flourish. Enter Prince Henry, Queen Elizabeth, Lady Margaret and others,<br>along with a Messenger.<br>BUCKING"
            ],
            "text/plain": [
              "<IPython.core.display.HTML object>"
            ]
          },
          "metadata": {},
          "output_type": "display_data"
        }
      ],
      "source": [
        "generate_text(\n",
        "    prefix=\"Enter, with flourish, the Duke of\",\n",
        "    num_tokens=250\n",
        ")"
      ]
    },
    {
      "cell_type": "code",
      "execution_count": null,
      "metadata": {
        "colab": {
          "base_uri": "https://localhost:8080/",
          "height": 590
        },
        "id": "_iZDfij-Upi8",
        "outputId": "c8ed59af-6115-45c8-e23b-21765eb0c09b"
      },
      "outputs": [
        {
          "name": "stderr",
          "output_type": "stream",
          "text": [
            "Setting `pad_token_id` to `eos_token_id`:50256 for open-end generation.\n"
          ]
        },
        {
          "data": {
            "text/html": [
              "<b>GENERATED TEXT:</b><br><br><span style='background-color: yellow;'>O brave new world,</span> thou hast been in a state of death.<br>YORK.<br>No, no, thou wast not bred for that, thy soul was born.<br>And therefore, good King Henry, my prayers are with thee.<br>[_Exeunt._]<br>SCENE III. The same. A Room in the Palace<br>Enter Lancaster, Queen, Edmund, Edmund and George.<br>LANCASTER.<br>This is the way to prison. If we should be put to death,<br>We would be the more wise of our bodies.<br>PRINCE EDWARD.<br>God grant that.<br>The courtiers are full of griefs; they are the very elements of grief.<br>Thy eyes are full, and they are withal.<br>KING HENRY.<br>To be fair, I have ta'en the world for my part.<br>My eyes are stained with sorrow; yet not so great<br>As the glass of death and death. My heart is stained with<br>Thou hast not a soul that knows who I am.<br>If this be so, I'll have it myself.<br>For I have my soul in the heart of death, but I do not see<br>What I'll say to myself. The world's a place to die.<br>GONERIL.<br>It was, by my soul, I know not what it is to be.<br>QUEEN ELIZABETH.<br>'Tis no such place for me; for I am a widow's son.<br>Let me see, Edmund.<br>DUKE.<br>Why, I cannot see thee. I see thee in the world.<br>What should befall thyself to be?"
            ],
            "text/plain": [
              "<IPython.core.display.HTML object>"
            ]
          },
          "metadata": {},
          "output_type": "display_data"
        }
      ],
      "source": [
        "generate_text(\n",
        "    prefix=\"O brave new world,\",\n",
        "    num_tokens=350\n",
        ")"
      ]
    },
    {
      "cell_type": "code",
      "execution_count": null,
      "metadata": {
        "colab": {
          "base_uri": "https://localhost:8080/",
          "height": 850
        },
        "id": "dR26U04TSDOv",
        "outputId": "7a5dc7d0-27c4-4ef9-e2df-d5a45289553f"
      },
      "outputs": [
        {
          "name": "stderr",
          "output_type": "stream",
          "text": [
            "Setting `pad_token_id` to `eos_token_id`:50256 for open-end generation.\n"
          ]
        },
        {
          "data": {
            "text/html": [
              "<b>GENERATED TEXT:</b><br><br><span style='background-color: yellow;'>Fair ladies and noble lords,</span><br>And, for their part, as they say,<br>The commonwealth's great purpose is to give<br>The people a better place to live.<br>But, alas, I fear, I do not know the cause<br>Of this fair and fair ceremony.<br>Enter Prince Edward and Margaret.<br>QUEEN MARGARET.<br>Here comes the Queen.<br>SOMERSET. [_Aside_.] A word with you, my lord.<br>KING RICHARD.<br>Sweet Margaret, let me speak with you.<br>[_Exeunt._]<br>SCENE III. The same. A room in the Palace.<br>Flourish. Enter King Henry, Queen Elizabeth, Buckingham and<br>others.<br>BUCKINGHAM.<br>How now, my lords? What news?<br>KING HENRY.<br>What news? What is't with you?<br>BOULT.<br>I have heard from your Majesty,<br>That you have a most fair and well-wisher'd mind<br>That doth bear your oaths. But, my good lord,<br>I must say, I have not heard from you. But I have heard<br>The news of your Majesty's death.<br>HASTINGS.<br>My lord, what news? I have seen it, my liege.<br>PRINCE EDWARD.<br>That I have, my dear lord, heard it.<br>And I, my sweet lord, have heard it;<br>And you, your good lord. But what news, my gracious lord?<br>What, my lovely lord? What, my loving lord? Why, my gentle lord? How, my noble lord? I<br>have heard it, your gracious lord. I have never heard it before.<br>The King is dead, my fair and prosperous lord. The King is alive, my lady.<br>DUKE EDWARD, the King of Scots, and his brother,<br>Lord Hastings, and my noble uncle.<br>BOYET. The Duke of Norfolk, the Duke of Suffolk,<br>My uncle, my cousin, and your uncle. I am sorry, my uncle. What news<br>to you? What? What's the news? Where is my uncle?<br>SALISBURY.<br>A letter from your uncle, to your cousin, to my cousin.<br>KATHERINA.<br>His cousin, my brother, is dead.<br>Your uncle is"
            ],
            "text/plain": [
              "<IPython.core.display.HTML object>"
            ]
          },
          "metadata": {},
          "output_type": "display_data"
        }
      ],
      "source": [
        "generate_text(\n",
        "    prefix=\"Fair ladies and noble lords,\",\n",
        "    num_tokens=500,\n",
        "    temperature=0.5\n",
        ")"
      ]
    },
    {
      "cell_type": "code",
      "execution_count": null,
      "metadata": {
        "colab": {
          "base_uri": "https://localhost:8080/",
          "height": 781
        },
        "id": "q-_sC-YbSPu1",
        "outputId": "10bad209-757d-4e26-9e05-9f43a9abce8d"
      },
      "outputs": [
        {
          "name": "stderr",
          "output_type": "stream",
          "text": [
            "Setting `pad_token_id` to `eos_token_id`:50256 for open-end generation.\n"
          ]
        },
        {
          "data": {
            "text/html": [
              "<b>GENERATED TEXT:</b><br><br><span style='background-color: yellow;'>On this stage,</span> the Duke of York,<br>Shall be to the feast of him at the palace.<br>KING RICHARD.<br>Welcome, my liege.<br>RICHARD GREY.<br>My liege, the day is now.<br>QUEEN ELIZABETH.<br>The Duke of Buckingham is here;<br>For my part, I am bound to your Grace<br>And your Grace shall have a fair and fair day.<br>So be it, noble lords,<br>That you will hear your Grace's speech.<br>Enter Prince Edward, attended.<br>PORTIA.<br>This is the day of the battle,<br>Whereon I'll present you to the King.<br>[_Exeunt._]<br>SCENE II. London. A Room in the Palace.<br>Flourish. Enter King Henry, the Marquess of York and<br>other Lords, meeting.<br>PRINCE EDWARD.<br>What news, lords, of that?<br>KING HENRY.<br>'Tis, 'tis true, my lord, the Queen herself,<br>The Queen herself—her husband, Richard,<br>I am well acquainted with—<br>For who's here?<br>PRINCESS.<br>Her husband, Queen Margaret;<br>And she that, by that name of Richard, now<br>She is lord of the English realm.<br>Henry's uncle, who is now king,<br>King Edward's uncle.<br>Let me hear his name.<br>How, Richard?<br>RIVERS.<br>Hang on your knee, Edward.<br>HERO.<br>Prince Edward is here, my lords.<br>King Henry is gone; and I'll find him to our pleasure.<br>LOUIS."
            ],
            "text/plain": [
              "<IPython.core.display.HTML object>"
            ]
          },
          "metadata": {},
          "output_type": "display_data"
        }
      ],
      "source": [
        "generate_text(\n",
        "    prefix=\"On this stage,\",\n",
        "    num_tokens=350\n",
        ")"
      ]
    },
    {
      "cell_type": "markdown",
      "metadata": {
        "id": "_ufZpqgDAcQR"
      },
      "source": [
        "**Conclusion:** The fine-tuned DistilGPT2 model demonstrates a significant improvement in text generation compared to the LSTM model. Coherence, fluency, grammar, and adherence to style are noticeably superior, suggesting that using transformer-based architectures and larger datasets leads to better results in text generation tasks. However, text generation could further benefit from selecting works of specific genres of Shakespeare, such as drama, comedy, or tragedy. This would allow the model to more accurately capture the unique stylistic characteristics of each genre, compared to training on all works, which may result in less coherent and less fluent text due to improper generalization. Additionally, text generation could be enhanced by using more robust models such as GPT-2 Medium, GPT-2 Large, or GPT-2 XL."
      ]
    }
  ],
  "metadata": {
    "colab": {
      "provenance": []
    },
    "coursera": {
      "schema_names": [
        "NLPC3-4A"
      ]
    },
    "grader_version": "1",
    "kernelspec": {
      "display_name": "Python 3",
      "name": "python3"
    },
    "language_info": {
      "codemirror_mode": {
        "name": "ipython",
        "version": 3
      },
      "file_extension": ".py",
      "mimetype": "text/x-python",
      "name": "python",
      "nbconvert_exporter": "python",
      "pygments_lexer": "ipython3",
      "version": "3.8.10"
    },
    "widgets": {
      "application/vnd.jupyter.widget-state+json": {
        "0b40eed7f21c4676b16f835575385f42": {
          "model_module": "@jupyter-widgets/controls",
          "model_module_version": "1.5.0",
          "model_name": "DescriptionStyleModel",
          "state": {
            "_model_module": "@jupyter-widgets/controls",
            "_model_module_version": "1.5.0",
            "_model_name": "DescriptionStyleModel",
            "_view_count": null,
            "_view_module": "@jupyter-widgets/base",
            "_view_module_version": "1.2.0",
            "_view_name": "StyleView",
            "description_width": ""
          }
        },
        "3ac2a64e36834ae4bfe3547781a6bf50": {
          "model_module": "@jupyter-widgets/controls",
          "model_module_version": "1.5.0",
          "model_name": "HTMLModel",
          "state": {
            "_dom_classes": [],
            "_model_module": "@jupyter-widgets/controls",
            "_model_module_version": "1.5.0",
            "_model_name": "HTMLModel",
            "_view_count": null,
            "_view_module": "@jupyter-widgets/controls",
            "_view_module_version": "1.5.0",
            "_view_name": "HTMLView",
            "description": "",
            "description_tooltip": null,
            "layout": "IPY_MODEL_b44f1eb4d1864317bae4d7d294c3f60b",
            "placeholder": "​",
            "style": "IPY_MODEL_0b40eed7f21c4676b16f835575385f42",
            "value": " 353M/353M [00:02&lt;00:00, 181MB/s]"
          }
        },
        "54e4d95924024023a63d9fae4d5cfb99": {
          "model_module": "@jupyter-widgets/controls",
          "model_module_version": "1.5.0",
          "model_name": "ProgressStyleModel",
          "state": {
            "_model_module": "@jupyter-widgets/controls",
            "_model_module_version": "1.5.0",
            "_model_name": "ProgressStyleModel",
            "_view_count": null,
            "_view_module": "@jupyter-widgets/base",
            "_view_module_version": "1.2.0",
            "_view_name": "StyleView",
            "bar_color": null,
            "description_width": ""
          }
        },
        "69d51a0af1934988bcad6eb5f613c5c5": {
          "model_module": "@jupyter-widgets/base",
          "model_module_version": "1.2.0",
          "model_name": "LayoutModel",
          "state": {
            "_model_module": "@jupyter-widgets/base",
            "_model_module_version": "1.2.0",
            "_model_name": "LayoutModel",
            "_view_count": null,
            "_view_module": "@jupyter-widgets/base",
            "_view_module_version": "1.2.0",
            "_view_name": "LayoutView",
            "align_content": null,
            "align_items": null,
            "align_self": null,
            "border": null,
            "bottom": null,
            "display": null,
            "flex": null,
            "flex_flow": null,
            "grid_area": null,
            "grid_auto_columns": null,
            "grid_auto_flow": null,
            "grid_auto_rows": null,
            "grid_column": null,
            "grid_gap": null,
            "grid_row": null,
            "grid_template_areas": null,
            "grid_template_columns": null,
            "grid_template_rows": null,
            "height": null,
            "justify_content": null,
            "justify_items": null,
            "left": null,
            "margin": null,
            "max_height": null,
            "max_width": null,
            "min_height": null,
            "min_width": null,
            "object_fit": null,
            "object_position": null,
            "order": null,
            "overflow": null,
            "overflow_x": null,
            "overflow_y": null,
            "padding": null,
            "right": null,
            "top": null,
            "visibility": null,
            "width": null
          }
        },
        "7ad7a620c8a14f98b5a75642c4766485": {
          "model_module": "@jupyter-widgets/controls",
          "model_module_version": "1.5.0",
          "model_name": "HTMLModel",
          "state": {
            "_dom_classes": [],
            "_model_module": "@jupyter-widgets/controls",
            "_model_module_version": "1.5.0",
            "_model_name": "HTMLModel",
            "_view_count": null,
            "_view_module": "@jupyter-widgets/controls",
            "_view_module_version": "1.5.0",
            "_view_name": "HTMLView",
            "description": "",
            "description_tooltip": null,
            "layout": "IPY_MODEL_922ffca6b14c4faa94162a4c6c3964df",
            "placeholder": "​",
            "style": "IPY_MODEL_b04384e7d8104d3e8b4c1552115ca145",
            "value": "model.safetensors: 100%"
          }
        },
        "922ffca6b14c4faa94162a4c6c3964df": {
          "model_module": "@jupyter-widgets/base",
          "model_module_version": "1.2.0",
          "model_name": "LayoutModel",
          "state": {
            "_model_module": "@jupyter-widgets/base",
            "_model_module_version": "1.2.0",
            "_model_name": "LayoutModel",
            "_view_count": null,
            "_view_module": "@jupyter-widgets/base",
            "_view_module_version": "1.2.0",
            "_view_name": "LayoutView",
            "align_content": null,
            "align_items": null,
            "align_self": null,
            "border": null,
            "bottom": null,
            "display": null,
            "flex": null,
            "flex_flow": null,
            "grid_area": null,
            "grid_auto_columns": null,
            "grid_auto_flow": null,
            "grid_auto_rows": null,
            "grid_column": null,
            "grid_gap": null,
            "grid_row": null,
            "grid_template_areas": null,
            "grid_template_columns": null,
            "grid_template_rows": null,
            "height": null,
            "justify_content": null,
            "justify_items": null,
            "left": null,
            "margin": null,
            "max_height": null,
            "max_width": null,
            "min_height": null,
            "min_width": null,
            "object_fit": null,
            "object_position": null,
            "order": null,
            "overflow": null,
            "overflow_x": null,
            "overflow_y": null,
            "padding": null,
            "right": null,
            "top": null,
            "visibility": null,
            "width": null
          }
        },
        "b04384e7d8104d3e8b4c1552115ca145": {
          "model_module": "@jupyter-widgets/controls",
          "model_module_version": "1.5.0",
          "model_name": "DescriptionStyleModel",
          "state": {
            "_model_module": "@jupyter-widgets/controls",
            "_model_module_version": "1.5.0",
            "_model_name": "DescriptionStyleModel",
            "_view_count": null,
            "_view_module": "@jupyter-widgets/base",
            "_view_module_version": "1.2.0",
            "_view_name": "StyleView",
            "description_width": ""
          }
        },
        "b44f1eb4d1864317bae4d7d294c3f60b": {
          "model_module": "@jupyter-widgets/base",
          "model_module_version": "1.2.0",
          "model_name": "LayoutModel",
          "state": {
            "_model_module": "@jupyter-widgets/base",
            "_model_module_version": "1.2.0",
            "_model_name": "LayoutModel",
            "_view_count": null,
            "_view_module": "@jupyter-widgets/base",
            "_view_module_version": "1.2.0",
            "_view_name": "LayoutView",
            "align_content": null,
            "align_items": null,
            "align_self": null,
            "border": null,
            "bottom": null,
            "display": null,
            "flex": null,
            "flex_flow": null,
            "grid_area": null,
            "grid_auto_columns": null,
            "grid_auto_flow": null,
            "grid_auto_rows": null,
            "grid_column": null,
            "grid_gap": null,
            "grid_row": null,
            "grid_template_areas": null,
            "grid_template_columns": null,
            "grid_template_rows": null,
            "height": null,
            "justify_content": null,
            "justify_items": null,
            "left": null,
            "margin": null,
            "max_height": null,
            "max_width": null,
            "min_height": null,
            "min_width": null,
            "object_fit": null,
            "object_position": null,
            "order": null,
            "overflow": null,
            "overflow_x": null,
            "overflow_y": null,
            "padding": null,
            "right": null,
            "top": null,
            "visibility": null,
            "width": null
          }
        },
        "ca5f9d1c04ed48d996a1d5a5c4a23fca": {
          "model_module": "@jupyter-widgets/controls",
          "model_module_version": "1.5.0",
          "model_name": "FloatProgressModel",
          "state": {
            "_dom_classes": [],
            "_model_module": "@jupyter-widgets/controls",
            "_model_module_version": "1.5.0",
            "_model_name": "FloatProgressModel",
            "_view_count": null,
            "_view_module": "@jupyter-widgets/controls",
            "_view_module_version": "1.5.0",
            "_view_name": "ProgressView",
            "bar_style": "success",
            "description": "",
            "description_tooltip": null,
            "layout": "IPY_MODEL_d7fd970eb06b44f2a3c0ec0df03a4838",
            "max": 352824413,
            "min": 0,
            "orientation": "horizontal",
            "style": "IPY_MODEL_54e4d95924024023a63d9fae4d5cfb99",
            "value": 352824413
          }
        },
        "d7fd970eb06b44f2a3c0ec0df03a4838": {
          "model_module": "@jupyter-widgets/base",
          "model_module_version": "1.2.0",
          "model_name": "LayoutModel",
          "state": {
            "_model_module": "@jupyter-widgets/base",
            "_model_module_version": "1.2.0",
            "_model_name": "LayoutModel",
            "_view_count": null,
            "_view_module": "@jupyter-widgets/base",
            "_view_module_version": "1.2.0",
            "_view_name": "LayoutView",
            "align_content": null,
            "align_items": null,
            "align_self": null,
            "border": null,
            "bottom": null,
            "display": null,
            "flex": null,
            "flex_flow": null,
            "grid_area": null,
            "grid_auto_columns": null,
            "grid_auto_flow": null,
            "grid_auto_rows": null,
            "grid_column": null,
            "grid_gap": null,
            "grid_row": null,
            "grid_template_areas": null,
            "grid_template_columns": null,
            "grid_template_rows": null,
            "height": null,
            "justify_content": null,
            "justify_items": null,
            "left": null,
            "margin": null,
            "max_height": null,
            "max_width": null,
            "min_height": null,
            "min_width": null,
            "object_fit": null,
            "object_position": null,
            "order": null,
            "overflow": null,
            "overflow_x": null,
            "overflow_y": null,
            "padding": null,
            "right": null,
            "top": null,
            "visibility": null,
            "width": null
          }
        },
        "f4e66647ecc54109af23e892cfb86b83": {
          "model_module": "@jupyter-widgets/controls",
          "model_module_version": "1.5.0",
          "model_name": "HBoxModel",
          "state": {
            "_dom_classes": [],
            "_model_module": "@jupyter-widgets/controls",
            "_model_module_version": "1.5.0",
            "_model_name": "HBoxModel",
            "_view_count": null,
            "_view_module": "@jupyter-widgets/controls",
            "_view_module_version": "1.5.0",
            "_view_name": "HBoxView",
            "box_style": "",
            "children": [
              "IPY_MODEL_7ad7a620c8a14f98b5a75642c4766485",
              "IPY_MODEL_ca5f9d1c04ed48d996a1d5a5c4a23fca",
              "IPY_MODEL_3ac2a64e36834ae4bfe3547781a6bf50"
            ],
            "layout": "IPY_MODEL_69d51a0af1934988bcad6eb5f613c5c5"
          }
        }
      }
    }
  },
  "nbformat": 4,
  "nbformat_minor": 0
}
