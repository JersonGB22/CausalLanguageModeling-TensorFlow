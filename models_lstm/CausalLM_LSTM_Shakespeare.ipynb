{
  "cells": [
    {
      "cell_type": "markdown",
      "metadata": {
        "id": "ezzKLPtx8S6C"
      },
      "source": [
        "# **Shakespeare-Style Text Generation with LSTM Networks**"
      ]
    },
    {
      "cell_type": "markdown",
      "metadata": {
        "id": "JhhWum6YU8kN"
      },
      "source": [
        "This notebook demonstrates the implementation of a Causal Language Model for text generation in the style of Shakespeare, using an [LSTM network](https://www.tensorflow.org/api_docs/python/tf/keras/layers/LSTM) and a [dataset containing Shakespeare's writings](https://storage.googleapis.com/download.tensorflow.org/data/shakespeare.txt).\n",
        "\n",
        "For a more robust implementation, please visit my following [notebook](https://github.com/JersonGB22/CausalLanguageModeling-TensorFlow/blob/main/models_transformers/CausalLM_DistilGPT2_Shakespeare.ipynb), where a Transformer model is implemented for text generation, achieving better results."
      ]
    },
    {
      "cell_type": "markdown",
      "metadata": {
        "id": "43AY8jCC8cp-"
      },
      "source": [
        "## **Imports**"
      ]
    },
    {
      "cell_type": "code",
      "execution_count": 1,
      "metadata": {
        "id": "c0d_8XPxoi92"
      },
      "outputs": [],
      "source": [
        "import tensorflow as tf\n",
        "import numpy as np\n",
        "import plotly.graph_objects as go\n",
        "from google.colab import drive\n",
        "from IPython.core.display import HTML\n",
        "from tqdm.auto import tqdm"
      ]
    },
    {
      "cell_type": "markdown",
      "metadata": {
        "id": "piIYd5Nl-8SX"
      },
      "source": [
        "## **Parameters**"
      ]
    },
    {
      "cell_type": "code",
      "execution_count": 2,
      "metadata": {
        "colab": {
          "base_uri": "https://localhost:8080/"
        },
        "id": "sFOW9rH6TXpW",
        "outputId": "87e7ea6b-3fc5-4fa9-c29e-f63834eb50a3"
      },
      "outputs": [
        {
          "name": "stdout",
          "output_type": "stream",
          "text": [
            "Mounted at /content/drive/\n"
          ]
        }
      ],
      "source": [
        "drive.mount(\"/content/drive/\")"
      ]
    },
    {
      "cell_type": "code",
      "execution_count": 2,
      "metadata": {
        "id": "eG-hJMUdRw6y"
      },
      "outputs": [],
      "source": [
        "seq_length = 128\n",
        "batch_size = 64\n",
        "buffer_size = 1024\n",
        "AUTOTUNE = tf.data.AUTOTUNE\n",
        "SEED = 123\n",
        "embedding_dim = 256\n",
        "epochs = 50"
      ]
    },
    {
      "cell_type": "markdown",
      "metadata": {
        "id": "2Jb1Tnf8-6m3"
      },
      "source": [
        "## **Load and Preprocess the Dataset**"
      ]
    },
    {
      "cell_type": "code",
      "execution_count": 3,
      "metadata": {
        "colab": {
          "base_uri": "https://localhost:8080/"
        },
        "id": "FE5KLZPR9hTJ",
        "outputId": "b0bd2793-fb0d-446e-fbb7-501dc7897d06"
      },
      "outputs": [
        {
          "name": "stdout",
          "output_type": "stream",
          "text": [
            "Length of text: 1115394 characters \n",
            "\n",
            "Text Extract:\n",
            "\n",
            "First Citizen:\n",
            "Before we proceed any further, hear me speak.\n",
            "\n",
            "All:\n",
            "Speak, speak.\n",
            "\n",
            "First Citizen:\n",
            "You are all resolved rather to die than to famish?\n",
            "\n",
            "All:\n",
            "Resolved. resolved.\n",
            "\n",
            "First Citizen:\n",
            "First, you know Caius Marcius is chief enemy to the people.\n",
            "\n",
            "All:\n",
            "We know't, we know't.\n",
            "\n",
            "First Citizen:\n",
            "Let us kill him, and we'll have corn at our own price.\n",
            "Is't a verdict?\n",
            "\n",
            "All:\n",
            "No more talking on't; let it be done: away, away!\n",
            "\n",
            "Second Citizen:\n",
            "One word, good citizens.\n",
            "\n",
            "First Citizen:\n",
            "We are accounted poor citizens, the patricians good.\n",
            "What authority surfeits on would relieve us: if they\n",
            "would yield us but the superfluity, while it were\n",
            "wholesome, we might guess they relieved us humanely;\n",
            "but they think we are too dear: the leanness that\n",
            "afflicts us, the object of our misery, is as an\n",
            "inventory to particularise their abundance; our\n",
            "sufferance is a gain to them Let us revenge this with\n",
            "our pikes, ere we become rakes: for the gods know I\n",
            "speak this in hunger for bread, not in thirst for revenge.\n",
            "\n",
            "\n"
          ]
        }
      ],
      "source": [
        "# Download the dataset\n",
        "dataset_path = tf.keras.utils.get_file(\n",
        "    fname=\"shakespeare.txt\",\n",
        "    origin=\"https://storage.googleapis.com/download.tensorflow.org/data/shakespeare.txt\"\n",
        ")\n",
        "\n",
        "# Read the dataset\n",
        "with open(dataset_path, \"r\") as file:\n",
        "  text = file.read()\n",
        "\n",
        "# View an excerpt of Shakespeare's text\n",
        "print(f\"Length of text: {len(text)} characters\", \"\\n\")\n",
        "print(f\"Text Extract:\\n\\n{text[:1000]}\")"
      ]
    },
    {
      "cell_type": "markdown",
      "metadata": {
        "id": "GcTHo3vVVrv9"
      },
      "source": [
        "### **Text Tokenization**"
      ]
    },
    {
      "cell_type": "markdown",
      "metadata": {
        "id": "EFGIIzBIKw2F"
      },
      "source": [
        "For tokenization, the [``tf.keras.layers.StringLookup``](https://www.tensorflow.org/api_docs/python/tf/keras/layers/StringLookup) layer is used to convert each character into a numeric identifier. To perform the reverse process of converting ids back to strings, the same layer is utilized with the parameter ``invert=True``."
      ]
    },
    {
      "cell_type": "code",
      "execution_count": 4,
      "metadata": {
        "id": "lnzQYV3xfcjH"
      },
      "outputs": [],
      "source": [
        "# Custom class to tokenize characters from the dataset\n",
        "class Tokenizer():\n",
        "  def __init__(self, text):\n",
        "    initial_vocab = sorted(set(text))\n",
        "    self.chars_to_ids = tf.keras.layers.StringLookup(vocabulary=initial_vocab)\n",
        "    self.vocab = self.chars_to_ids.get_vocabulary()\n",
        "    self.ids_to_chars = tf.keras.layers.StringLookup(vocabulary=self.vocab, invert=True)\n",
        "    self.vocab_size = self.chars_to_ids.vocabulary_size()\n",
        "\n",
        "  def text_to_ids(self, text):\n",
        "    text = tf.strings.unicode_split(text, input_encoding=\"UTF-8\")\n",
        "    ids = self.chars_to_ids(text)\n",
        "    return ids\n",
        "\n",
        "  def ids_to_text(self, ids):\n",
        "    chars = self.ids_to_chars(ids)\n",
        "    chars = tf.strings.reduce_join(chars, axis=-1).numpy().decode(\"utf-8\")\n",
        "    return chars"
      ]
    },
    {
      "cell_type": "code",
      "execution_count": 5,
      "metadata": {
        "colab": {
          "base_uri": "https://localhost:8080/"
        },
        "id": "k5kXKEOSmTIQ",
        "outputId": "4a110c9f-e413-44d8-9c65-a2f7cf321f61"
      },
      "outputs": [
        {
          "name": "stdout",
          "output_type": "stream",
          "text": [
            "66\n",
            "['[UNK]', '\\n', ' ', '!', '$', '&', \"'\", ',', '-', '.', '3', ':', ';', '?', 'A', 'B', 'C', 'D', 'E', 'F', 'G', 'H', 'I', 'J', 'K', 'L', 'M', 'N', 'O', 'P', 'Q', 'R', 'S', 'T', 'U', 'V', 'W', 'X', 'Y', 'Z', 'a', 'b', 'c', 'd', 'e', 'f', 'g', 'h', 'i', 'j', 'k', 'l', 'm', 'n', 'o', 'p', 'q', 'r', 's', 't', 'u', 'v', 'w', 'x', 'y', 'z']\n"
          ]
        }
      ],
      "source": [
        "tokenizer = Tokenizer(text)\n",
        "dataset = tokenizer.text_to_ids(text)\n",
        "vocab = tokenizer.vocab\n",
        "vocab_size = tokenizer.vocab_size\n",
        "\n",
        "print(vocab_size)\n",
        "print(vocab)"
      ]
    },
    {
      "cell_type": "code",
      "execution_count": 6,
      "metadata": {
        "colab": {
          "base_uri": "https://localhost:8080/",
          "height": 140
        },
        "id": "g2jOeeNKnDnk",
        "outputId": "1389778e-09f6-4f72-ade2-42569b820fef"
      },
      "outputs": [
        {
          "name": "stdout",
          "output_type": "stream",
          "text": [
            "[19 48 57 58 59  2 16 48 59 48 65 44 53 11  1 15 44 45 54 57 44  2 62 44\n",
            "  2 55 57 54 42 44 44 43  2 40 53 64  2 45 60 57 59 47 44 57  7  2 47 44\n",
            " 40 57  2 52 44  2 58 55 44 40 50  9  1  1 14 51 51 11  1 32 55 44 40 50\n",
            "  7  2 58 55 44 40 50  9  1  1 19 48 57 58 59  2 16 48 59 48 65 44 53 11\n",
            "  1 38 54 60] \n",
            "\n"
          ]
        },
        {
          "data": {
            "application/vnd.google.colaboratory.intrinsic+json": {
              "type": "string"
            },
            "text/plain": [
              "'First Citizen:\\nBefore we proceed any further, hear me speak.\\n\\nAll:\\nSpeak, speak.\\n\\nFirst Citizen:\\nYou'"
            ]
          },
          "execution_count": 6,
          "metadata": {},
          "output_type": "execute_result"
        }
      ],
      "source": [
        "# Observe the results of tokenization\n",
        "print(dataset[:100].numpy(), \"\\n\")\n",
        "tokenizer.ids_to_text(dataset[:100])"
      ]
    },
    {
      "cell_type": "markdown",
      "metadata": {
        "id": "3turIAQCcQAw"
      },
      "source": [
        "### **Create the Training and Evaluation Datasets**"
      ]
    },
    {
      "cell_type": "code",
      "execution_count": 7,
      "metadata": {
        "id": "3aA9E59Xhoj3"
      },
      "outputs": [],
      "source": [
        "def create_datasets(dataset, val_size=0.15):\n",
        "  def split_input_label(sequence):\n",
        "    inputs = sequence[:-1]\n",
        "    labels = sequence[1:] #The 'labels' are simply the 'ids' shifted one position to the right\n",
        "    return inputs, labels\n",
        "\n",
        "  N = int(len(dataset) * val_size)\n",
        "  train_dataset = dataset[:-N]\n",
        "  val_dataset = dataset[-N:]\n",
        "\n",
        "  train_dataset = tf.data.Dataset.from_tensor_slices(train_dataset)\n",
        "  val_dataset = tf.data.Dataset.from_tensor_slices(val_dataset)\n",
        "  train_dataset = train_dataset.batch(seq_length + 1, drop_remainder=True)\n",
        "  val_dataset = val_dataset.batch(seq_length + 1, drop_remainder=True)\n",
        "\n",
        "  train_dataset = (\n",
        "      train_dataset.\n",
        "      map(split_input_label).\n",
        "      shuffle(buffer_size, seed=SEED).\n",
        "      batch(batch_size).\n",
        "      prefetch(AUTOTUNE)\n",
        "  )\n",
        "\n",
        "  val_dataset = (\n",
        "      val_dataset.\n",
        "      map(split_input_label).\n",
        "      batch(batch_size).\n",
        "      prefetch(AUTOTUNE)\n",
        "  )\n",
        "\n",
        "  return train_dataset, val_dataset"
      ]
    },
    {
      "cell_type": "code",
      "execution_count": 8,
      "metadata": {
        "id": "bZZBsgXV8nyv"
      },
      "outputs": [],
      "source": [
        "train_dataset, val_dataset = create_datasets(dataset)"
      ]
    },
    {
      "cell_type": "code",
      "execution_count": 9,
      "metadata": {
        "colab": {
          "base_uri": "https://localhost:8080/"
        },
        "id": "a67sDlx28sAO",
        "outputId": "e613958e-d7d8-44ca-f615-2806128ef5ab"
      },
      "outputs": [
        {
          "name": "stdout",
          "output_type": "stream",
          "text": [
            "tf.Tensor(\n",
            "[[ 2 47 44 ... 44 58 54]\n",
            " [47 44 40 ... 45  2 40]\n",
            " [62 44  2 ... 54 42 44]\n",
            " ...\n",
            " [53 59 11 ...  2 59 47]\n",
            " [ 6  3  2 ... 59  2 47]\n",
            " [47 48 52 ...  2 59 47]], shape=(64, 128), dtype=int64) \n",
            "\n",
            "tf.Tensor(\n",
            "[[47 44 51 ... 58 54 51]\n",
            " [44 40 57 ...  2 40 60]\n",
            " [44  2 41 ... 42 44 44]\n",
            " ...\n",
            " [59 11  1 ... 59 47 40]\n",
            " [ 3  2  6 ...  2 47 40]\n",
            " [48 52  2 ... 59 47 44]], shape=(64, 128), dtype=int64)\n"
          ]
        }
      ],
      "source": [
        "# Viewing a training batch\n",
        "for inputs, labels in train_dataset.take(1):\n",
        "  print(inputs, \"\\n\")\n",
        "  print(labels)"
      ]
    },
    {
      "cell_type": "markdown",
      "metadata": {
        "id": "ey4FxjBKi6ql"
      },
      "source": [
        "## **Creation and Training of the Model**"
      ]
    },
    {
      "cell_type": "markdown",
      "metadata": {
        "id": "8ba4IBFKxpuM"
      },
      "source": [
        "The model can be created using TensorFlow's sequential or functional API directly. However, to significantly speed up text generation, it's essential to implement a custom model that returns the internal state of the LSTM to be passed to the next step when generating each character. This approach is preferred over predicting complete sequences at each prediction step."
      ]
    },
    {
      "cell_type": "code",
      "execution_count": 9,
      "metadata": {
        "id": "kSvjmzhcDCAb"
      },
      "outputs": [],
      "source": [
        "@tf.keras.saving.register_keras_serializable()\n",
        "class Model(tf.keras.Model):\n",
        "  def __init__(self):\n",
        "    super().__init__()\n",
        "    self.embedding = tf.keras.layers.Embedding(input_dim=vocab_size, output_dim=embedding_dim)\n",
        "    self.lstm = tf.keras.layers.LSTM(embedding_dim, return_sequences=True, return_state=True)\n",
        "    self.dense = tf.keras.layers.Dense(vocab_size)\n",
        "\n",
        "  def call(self, inputs, states=None, return_state=False):\n",
        "    x = self.embedding(inputs)\n",
        "    if states is None:\n",
        "      states = self.lstm.get_initial_state(x)\n",
        "    x, last_hs, last_cs = self.lstm(x, initial_state=states) #(All sequence hidden states, last hidden state, last cell state)\n",
        "    x = self.dense(x)\n",
        "\n",
        "    if return_state:\n",
        "      return x, [last_hs, last_cs]\n",
        "    else:\n",
        "      return x"
      ]
    },
    {
      "cell_type": "code",
      "execution_count": 11,
      "metadata": {
        "colab": {
          "base_uri": "https://localhost:8080/"
        },
        "id": "QszJCJEGqq4M",
        "outputId": "f252de86-5aff-4868-f563-aebcbfb69f32"
      },
      "outputs": [
        {
          "name": "stdout",
          "output_type": "stream",
          "text": [
            "Model: \"model\"\n",
            "_________________________________________________________________\n",
            " Layer (type)                Output Shape              Param #   \n",
            "=================================================================\n",
            " embedding (Embedding)       (None, None, 256)         16896     \n",
            "                                                                 \n",
            " lstm (LSTM)                 [(None, None, 256),       525312    \n",
            "                              (None, 256),                       \n",
            "                              (None, 256)]                       \n",
            "                                                                 \n",
            " dense (Dense)               (None, None, 66)          16962     \n",
            "                                                                 \n",
            "=================================================================\n",
            "Total params: 559170 (2.13 MB)\n",
            "Trainable params: 559170 (2.13 MB)\n",
            "Non-trainable params: 0 (0.00 Byte)\n",
            "_________________________________________________________________\n"
          ]
        }
      ],
      "source": [
        "tf.keras.backend.clear_session() #Clearing Keras memory\n",
        "tf.random.set_seed(123) #For reproducibility\n",
        "\n",
        "model = Model()\n",
        "model.build(input_shape=(None, None)) #None: variable sequences\n",
        "model.call(tf.keras.Input(shape=(None,)))\n",
        "\n",
        "model.summary()"
      ]
    },
    {
      "cell_type": "code",
      "execution_count": 12,
      "metadata": {
        "colab": {
          "base_uri": "https://localhost:8080/",
          "height": 35
        },
        "id": "jy73tsJXiQDa",
        "outputId": "2e613d37-0b79-4921-8093-14116ac40ef1"
      },
      "outputs": [
        {
          "data": {
            "application/vnd.google.colaboratory.intrinsic+json": {
              "type": "string"
            },
            "text/plain": [
              "'F$R;;FFFFFRRFFRRRuVVVVVVuuuxxxOORRRFFFFRFjuuRRRV;;;Fuuu;u;VFRRRRFRRR;;F;Fg\\nOKFVRRFKVV?FVR;;KVpuuubbKnxFFFFFFRFjuKnnxuRR;;;;F;;aR'"
            ]
          },
          "execution_count": 12,
          "metadata": {},
          "output_type": "execute_result"
        }
      ],
      "source": [
        "# Example of prediction before training the model\n",
        "\n",
        "example = inputs[0]\n",
        "pred_example = model.predict(example[None, :], verbose=0)[0]\n",
        "pred_example = np.argmax(pred_example, axis=-1)\n",
        "tokenizer.ids_to_text(pred_example)"
      ]
    },
    {
      "cell_type": "markdown",
      "metadata": {
        "id": "4rzkPWRkQppo"
      },
      "source": [
        "It can be observed that before training the model, it generates completely random text."
      ]
    },
    {
      "cell_type": "code",
      "execution_count": 13,
      "metadata": {
        "id": "oVbsK5EzTE5e"
      },
      "outputs": [],
      "source": [
        "# Callback to stop training early if validation loss does not decrease for 2 epochs\n",
        "callback = tf.keras.callbacks.EarlyStopping(\n",
        "    monitor=\"val_loss\",\n",
        "    patience=2,\n",
        "    mode=\"min\",\n",
        "    restore_best_weights=True\n",
        ")"
      ]
    },
    {
      "cell_type": "code",
      "execution_count": 14,
      "metadata": {
        "id": "0Iv8F1lglgeV"
      },
      "outputs": [],
      "source": [
        "# Model Compilation\n",
        "model.compile(\n",
        "    optimizer=tf.keras.optimizers.Adam(0.001),\n",
        "    loss=tf.keras.losses.SparseCategoricalCrossentropy(from_logits=True)\n",
        ")"
      ]
    },
    {
      "cell_type": "code",
      "execution_count": 15,
      "metadata": {
        "colab": {
          "base_uri": "https://localhost:8080/"
        },
        "id": "N5cCUE4y-K7x",
        "outputId": "8da25168-35a7-4afb-aca6-f30524490107"
      },
      "outputs": [
        {
          "name": "stdout",
          "output_type": "stream",
          "text": [
            "Epoch 1/50\n",
            "115/115 [==============================] - 7s 31ms/step - loss: 3.0322 - val_loss: 2.4649\n",
            "Epoch 2/50\n",
            "115/115 [==============================] - 3s 21ms/step - loss: 2.3173 - val_loss: 2.2202\n",
            "Epoch 3/50\n",
            "115/115 [==============================] - 3s 21ms/step - loss: 2.1226 - val_loss: 2.0814\n",
            "Epoch 4/50\n",
            "115/115 [==============================] - 5s 38ms/step - loss: 1.9924 - val_loss: 1.9954\n",
            "Epoch 5/50\n",
            "115/115 [==============================] - 4s 29ms/step - loss: 1.8957 - val_loss: 1.9344\n",
            "Epoch 6/50\n",
            "115/115 [==============================] - 5s 36ms/step - loss: 1.8195 - val_loss: 1.8933\n",
            "Epoch 7/50\n",
            "115/115 [==============================] - 7s 55ms/step - loss: 1.7582 - val_loss: 1.8605\n",
            "Epoch 8/50\n",
            "115/115 [==============================] - 3s 25ms/step - loss: 1.7071 - val_loss: 1.8352\n",
            "Epoch 9/50\n",
            "115/115 [==============================] - 3s 26ms/step - loss: 1.6650 - val_loss: 1.8147\n",
            "Epoch 10/50\n",
            "115/115 [==============================] - 4s 31ms/step - loss: 1.6300 - val_loss: 1.7932\n",
            "Epoch 11/50\n",
            "115/115 [==============================] - 5s 41ms/step - loss: 1.5993 - val_loss: 1.7792\n",
            "Epoch 12/50\n",
            "115/115 [==============================] - 4s 30ms/step - loss: 1.5722 - val_loss: 1.7639\n",
            "Epoch 13/50\n",
            "115/115 [==============================] - 4s 33ms/step - loss: 1.5494 - val_loss: 1.7505\n",
            "Epoch 14/50\n",
            "115/115 [==============================] - 3s 24ms/step - loss: 1.5284 - val_loss: 1.7427\n",
            "Epoch 15/50\n",
            "115/115 [==============================] - 3s 24ms/step - loss: 1.5097 - val_loss: 1.7274\n",
            "Epoch 16/50\n",
            "115/115 [==============================] - 3s 21ms/step - loss: 1.4927 - val_loss: 1.7248\n",
            "Epoch 17/50\n",
            "115/115 [==============================] - 6s 48ms/step - loss: 1.4780 - val_loss: 1.7173\n",
            "Epoch 18/50\n",
            "115/115 [==============================] - 4s 31ms/step - loss: 1.4637 - val_loss: 1.7122\n",
            "Epoch 19/50\n",
            "115/115 [==============================] - 3s 20ms/step - loss: 1.4515 - val_loss: 1.7059\n",
            "Epoch 20/50\n",
            "115/115 [==============================] - 3s 21ms/step - loss: 1.4397 - val_loss: 1.7031\n",
            "Epoch 21/50\n",
            "115/115 [==============================] - 4s 36ms/step - loss: 1.4290 - val_loss: 1.6955\n",
            "Epoch 22/50\n",
            "115/115 [==============================] - 3s 23ms/step - loss: 1.4193 - val_loss: 1.6957\n",
            "Epoch 23/50\n",
            "115/115 [==============================] - 3s 20ms/step - loss: 1.4095 - val_loss: 1.6908\n",
            "Epoch 24/50\n",
            "115/115 [==============================] - 3s 21ms/step - loss: 1.4011 - val_loss: 1.6886\n",
            "Epoch 25/50\n",
            "115/115 [==============================] - 4s 32ms/step - loss: 1.3926 - val_loss: 1.6837\n",
            "Epoch 26/50\n",
            "115/115 [==============================] - 3s 25ms/step - loss: 1.3848 - val_loss: 1.6820\n",
            "Epoch 27/50\n",
            "115/115 [==============================] - 3s 23ms/step - loss: 1.3778 - val_loss: 1.6792\n",
            "Epoch 28/50\n",
            "115/115 [==============================] - 3s 20ms/step - loss: 1.3705 - val_loss: 1.6760\n",
            "Epoch 29/50\n",
            "115/115 [==============================] - 3s 20ms/step - loss: 1.3641 - val_loss: 1.6768\n",
            "Epoch 30/50\n",
            "115/115 [==============================] - 4s 36ms/step - loss: 1.3580 - val_loss: 1.6725\n",
            "Epoch 31/50\n",
            "115/115 [==============================] - 3s 20ms/step - loss: 1.3518 - val_loss: 1.6697\n",
            "Epoch 32/50\n",
            "115/115 [==============================] - 3s 20ms/step - loss: 1.3455 - val_loss: 1.6663\n",
            "Epoch 33/50\n",
            "115/115 [==============================] - 3s 23ms/step - loss: 1.3404 - val_loss: 1.6678\n",
            "Epoch 34/50\n",
            "115/115 [==============================] - 4s 30ms/step - loss: 1.3343 - val_loss: 1.6665\n"
          ]
        }
      ],
      "source": [
        "# Train the model\n",
        "\n",
        "tf.random.set_seed(SEED)\n",
        "history = model.fit(train_dataset, epochs=epochs, validation_data=val_dataset, callbacks=[callback])"
      ]
    },
    {
      "cell_type": "markdown",
      "metadata": {
        "id": "S7cewteBIwua"
      },
      "source": [
        "**Save model**"
      ]
    },
    {
      "cell_type": "code",
      "execution_count": 7,
      "metadata": {
        "id": "kHF6iPebtijl"
      },
      "outputs": [],
      "source": [
        "trained_model_path = \"/content/drive/MyDrive/models/CausalLM_LSTM_Shakespeare.keras\""
      ]
    },
    {
      "cell_type": "code",
      "execution_count": 17,
      "metadata": {
        "id": "gJ1Ww4BMaIfQ"
      },
      "outputs": [],
      "source": [
        "model.save(trained_model_path)"
      ]
    },
    {
      "cell_type": "markdown",
      "metadata": {
        "id": "WSJL2EanOvQH"
      },
      "source": [
        "## **Model Evaluation**"
      ]
    },
    {
      "cell_type": "code",
      "execution_count": 19,
      "metadata": {
        "colab": {
          "base_uri": "https://localhost:8080/"
        },
        "id": "5sygZy4MVBVH",
        "outputId": "1e083a2a-efc0-44c4-9a38-d1316f547170"
      },
      "outputs": [
        {
          "name": "stdout",
          "output_type": "stream",
          "text": [
            "Training Dataset:\n",
            "Loss: 1.345813512802124\tPerplexity: 3.8413102248939723\n",
            "\n",
            "Validation Dataset:\n",
            "Loss: 1.6662834882736206\tPerplexity: 5.292461704914405\n"
          ]
        }
      ],
      "source": [
        "loss_train = model.evaluate(train_dataset, verbose=0)\n",
        "loss_val = model.evaluate(val_dataset, verbose=0)\n",
        "print(f\"Training Dataset:\\nLoss: {loss_train}\\tPerplexity: {np.exp(loss_train)}\\n\")\n",
        "print(f\"Validation Dataset:\\nLoss: {loss_val}\\tPerplexity: {np.exp(loss_val)}\")"
      ]
    },
    {
      "cell_type": "code",
      "execution_count": 20,
      "metadata": {
        "id": "S0Dl-vzNaZD4"
      },
      "outputs": [],
      "source": [
        "# Function to plot the metrics\n",
        "def plot_metrics(history=history, metric=\"loss\", renderer=None, epochs=len(history.history[\"loss\"])):\n",
        "  losses = history.history[metric]\n",
        "  val_losses = history.history[f\"val_{metric}\"]\n",
        "  list_epochs = np.arange(1, epochs+1)\n",
        "  metric = \" \".join([w.capitalize() for w in metric.split(\"_\")])\n",
        "\n",
        "  fig=go.Figure()\n",
        "  fig.add_trace(go.Scatter(x=list_epochs, y=losses, name=metric, line=dict(color=\"blue\", width=2)))\n",
        "  fig.add_trace(go.Scatter(x=list_epochs, y=val_losses, name=f\"Val {metric}\", line=dict(color=\"#FF6600\", width=2)))\n",
        "  fig.update_xaxes(title_text=\"Epoch\")\n",
        "  fig.update_yaxes(title_text=metric)\n",
        "  fig.update_layout(title=f\"Evolution of {metric} across Epochs\",\n",
        "                    title_font=dict(size=20),\n",
        "                    title_x=0.5,\n",
        "                    height=500,\n",
        "                    width=1200)\n",
        "\n",
        "  fig.show(renderer)"
      ]
    },
    {
      "cell_type": "markdown",
      "metadata": {
        "id": "Zbmblu4ZuQoO"
      },
      "source": [
        "**Interactive graphics**"
      ]
    },
    {
      "cell_type": "code",
      "execution_count": 21,
      "metadata": {
        "colab": {
          "base_uri": "https://localhost:8080/",
          "height": 517
        },
        "id": "K9_fscW1bBUJ",
        "outputId": "26442bba-0a63-4f7d-f755-a1390e82d8ef"
      },
      "outputs": [
        {
          "data": {
            "text/html": [
              "<html>\n",
              "<head><meta charset=\"utf-8\" /></head>\n",
              "<body>\n",
              "    <div>            <script src=\"https://cdnjs.cloudflare.com/ajax/libs/mathjax/2.7.5/MathJax.js?config=TeX-AMS-MML_SVG\"></script><script type=\"text/javascript\">if (window.MathJax && window.MathJax.Hub && window.MathJax.Hub.Config) {window.MathJax.Hub.Config({SVG: {font: \"STIX-Web\"}});}</script>                <script type=\"text/javascript\">window.PlotlyConfig = {MathJaxConfig: 'local'};</script>\n",
              "        <script charset=\"utf-8\" src=\"https://cdn.plot.ly/plotly-2.24.1.min.js\"></script>                <div id=\"06ad7928-b54d-4ebc-a2f7-29af4c8c1320\" class=\"plotly-graph-div\" style=\"height:500px; width:1200px;\"></div>            <script type=\"text/javascript\">                                    window.PLOTLYENV=window.PLOTLYENV || {};                                    if (document.getElementById(\"06ad7928-b54d-4ebc-a2f7-29af4c8c1320\")) {                    Plotly.newPlot(                        \"06ad7928-b54d-4ebc-a2f7-29af4c8c1320\",                        [{\"line\":{\"color\":\"blue\",\"width\":2},\"name\":\"Loss\",\"x\":[1,2,3,4,5,6,7,8,9,10,11,12,13,14,15,16,17,18,19,20,21,22,23,24,25,26,27,28,29,30,31,32,33,34],\"y\":[3.0322301387786865,2.3172760009765625,2.122591495513916,1.992385983467102,1.8956716060638428,1.8194516897201538,1.758192777633667,1.7071051597595215,1.6649963855743408,1.629976511001587,1.5992649793624878,1.5722285509109497,1.5493532419204712,1.5283657312393188,1.509729027748108,1.4927380084991455,1.478003740310669,1.463746428489685,1.4515445232391357,1.4397414922714233,1.428964376449585,1.419346570968628,1.4095371961593628,1.4011460542678833,1.3926069736480713,1.3848274946212769,1.3778215646743774,1.3704524040222168,1.364088535308838,1.3580065965652466,1.351819634437561,1.3454509973526,1.3404487371444702,1.3342976570129395],\"type\":\"scatter\"},{\"line\":{\"color\":\"#FF6600\",\"width\":2},\"name\":\"Val Loss\",\"x\":[1,2,3,4,5,6,7,8,9,10,11,12,13,14,15,16,17,18,19,20,21,22,23,24,25,26,27,28,29,30,31,32,33,34],\"y\":[2.464877128601074,2.2201929092407227,2.0813958644866943,1.9954272508621216,1.9343596696853638,1.8933395147323608,1.8605326414108276,1.8352218866348267,1.8147342205047607,1.7931876182556152,1.7791507244110107,1.7638611793518066,1.7504839897155762,1.742682933807373,1.7273952960968018,1.7247868776321411,1.7172815799713135,1.712213158607483,1.7058556079864502,1.7030692100524902,1.695525050163269,1.6956689357757568,1.6908056735992432,1.6886388063430786,1.6837067604064941,1.682018518447876,1.6792314052581787,1.675970196723938,1.6768169403076172,1.6724729537963867,1.6696679592132568,1.6662834882736206,1.667833685874939,1.6665236949920654],\"type\":\"scatter\"}],                        {\"template\":{\"data\":{\"histogram2dcontour\":[{\"type\":\"histogram2dcontour\",\"colorbar\":{\"outlinewidth\":0,\"ticks\":\"\"},\"colorscale\":[[0.0,\"#0d0887\"],[0.1111111111111111,\"#46039f\"],[0.2222222222222222,\"#7201a8\"],[0.3333333333333333,\"#9c179e\"],[0.4444444444444444,\"#bd3786\"],[0.5555555555555556,\"#d8576b\"],[0.6666666666666666,\"#ed7953\"],[0.7777777777777778,\"#fb9f3a\"],[0.8888888888888888,\"#fdca26\"],[1.0,\"#f0f921\"]]}],\"choropleth\":[{\"type\":\"choropleth\",\"colorbar\":{\"outlinewidth\":0,\"ticks\":\"\"}}],\"histogram2d\":[{\"type\":\"histogram2d\",\"colorbar\":{\"outlinewidth\":0,\"ticks\":\"\"},\"colorscale\":[[0.0,\"#0d0887\"],[0.1111111111111111,\"#46039f\"],[0.2222222222222222,\"#7201a8\"],[0.3333333333333333,\"#9c179e\"],[0.4444444444444444,\"#bd3786\"],[0.5555555555555556,\"#d8576b\"],[0.6666666666666666,\"#ed7953\"],[0.7777777777777778,\"#fb9f3a\"],[0.8888888888888888,\"#fdca26\"],[1.0,\"#f0f921\"]]}],\"heatmap\":[{\"type\":\"heatmap\",\"colorbar\":{\"outlinewidth\":0,\"ticks\":\"\"},\"colorscale\":[[0.0,\"#0d0887\"],[0.1111111111111111,\"#46039f\"],[0.2222222222222222,\"#7201a8\"],[0.3333333333333333,\"#9c179e\"],[0.4444444444444444,\"#bd3786\"],[0.5555555555555556,\"#d8576b\"],[0.6666666666666666,\"#ed7953\"],[0.7777777777777778,\"#fb9f3a\"],[0.8888888888888888,\"#fdca26\"],[1.0,\"#f0f921\"]]}],\"heatmapgl\":[{\"type\":\"heatmapgl\",\"colorbar\":{\"outlinewidth\":0,\"ticks\":\"\"},\"colorscale\":[[0.0,\"#0d0887\"],[0.1111111111111111,\"#46039f\"],[0.2222222222222222,\"#7201a8\"],[0.3333333333333333,\"#9c179e\"],[0.4444444444444444,\"#bd3786\"],[0.5555555555555556,\"#d8576b\"],[0.6666666666666666,\"#ed7953\"],[0.7777777777777778,\"#fb9f3a\"],[0.8888888888888888,\"#fdca26\"],[1.0,\"#f0f921\"]]}],\"contourcarpet\":[{\"type\":\"contourcarpet\",\"colorbar\":{\"outlinewidth\":0,\"ticks\":\"\"}}],\"contour\":[{\"type\":\"contour\",\"colorbar\":{\"outlinewidth\":0,\"ticks\":\"\"},\"colorscale\":[[0.0,\"#0d0887\"],[0.1111111111111111,\"#46039f\"],[0.2222222222222222,\"#7201a8\"],[0.3333333333333333,\"#9c179e\"],[0.4444444444444444,\"#bd3786\"],[0.5555555555555556,\"#d8576b\"],[0.6666666666666666,\"#ed7953\"],[0.7777777777777778,\"#fb9f3a\"],[0.8888888888888888,\"#fdca26\"],[1.0,\"#f0f921\"]]}],\"surface\":[{\"type\":\"surface\",\"colorbar\":{\"outlinewidth\":0,\"ticks\":\"\"},\"colorscale\":[[0.0,\"#0d0887\"],[0.1111111111111111,\"#46039f\"],[0.2222222222222222,\"#7201a8\"],[0.3333333333333333,\"#9c179e\"],[0.4444444444444444,\"#bd3786\"],[0.5555555555555556,\"#d8576b\"],[0.6666666666666666,\"#ed7953\"],[0.7777777777777778,\"#fb9f3a\"],[0.8888888888888888,\"#fdca26\"],[1.0,\"#f0f921\"]]}],\"mesh3d\":[{\"type\":\"mesh3d\",\"colorbar\":{\"outlinewidth\":0,\"ticks\":\"\"}}],\"scatter\":[{\"fillpattern\":{\"fillmode\":\"overlay\",\"size\":10,\"solidity\":0.2},\"type\":\"scatter\"}],\"parcoords\":[{\"type\":\"parcoords\",\"line\":{\"colorbar\":{\"outlinewidth\":0,\"ticks\":\"\"}}}],\"scatterpolargl\":[{\"type\":\"scatterpolargl\",\"marker\":{\"colorbar\":{\"outlinewidth\":0,\"ticks\":\"\"}}}],\"bar\":[{\"error_x\":{\"color\":\"#2a3f5f\"},\"error_y\":{\"color\":\"#2a3f5f\"},\"marker\":{\"line\":{\"color\":\"#E5ECF6\",\"width\":0.5},\"pattern\":{\"fillmode\":\"overlay\",\"size\":10,\"solidity\":0.2}},\"type\":\"bar\"}],\"scattergeo\":[{\"type\":\"scattergeo\",\"marker\":{\"colorbar\":{\"outlinewidth\":0,\"ticks\":\"\"}}}],\"scatterpolar\":[{\"type\":\"scatterpolar\",\"marker\":{\"colorbar\":{\"outlinewidth\":0,\"ticks\":\"\"}}}],\"histogram\":[{\"marker\":{\"pattern\":{\"fillmode\":\"overlay\",\"size\":10,\"solidity\":0.2}},\"type\":\"histogram\"}],\"scattergl\":[{\"type\":\"scattergl\",\"marker\":{\"colorbar\":{\"outlinewidth\":0,\"ticks\":\"\"}}}],\"scatter3d\":[{\"type\":\"scatter3d\",\"line\":{\"colorbar\":{\"outlinewidth\":0,\"ticks\":\"\"}},\"marker\":{\"colorbar\":{\"outlinewidth\":0,\"ticks\":\"\"}}}],\"scattermapbox\":[{\"type\":\"scattermapbox\",\"marker\":{\"colorbar\":{\"outlinewidth\":0,\"ticks\":\"\"}}}],\"scatterternary\":[{\"type\":\"scatterternary\",\"marker\":{\"colorbar\":{\"outlinewidth\":0,\"ticks\":\"\"}}}],\"scattercarpet\":[{\"type\":\"scattercarpet\",\"marker\":{\"colorbar\":{\"outlinewidth\":0,\"ticks\":\"\"}}}],\"carpet\":[{\"aaxis\":{\"endlinecolor\":\"#2a3f5f\",\"gridcolor\":\"white\",\"linecolor\":\"white\",\"minorgridcolor\":\"white\",\"startlinecolor\":\"#2a3f5f\"},\"baxis\":{\"endlinecolor\":\"#2a3f5f\",\"gridcolor\":\"white\",\"linecolor\":\"white\",\"minorgridcolor\":\"white\",\"startlinecolor\":\"#2a3f5f\"},\"type\":\"carpet\"}],\"table\":[{\"cells\":{\"fill\":{\"color\":\"#EBF0F8\"},\"line\":{\"color\":\"white\"}},\"header\":{\"fill\":{\"color\":\"#C8D4E3\"},\"line\":{\"color\":\"white\"}},\"type\":\"table\"}],\"barpolar\":[{\"marker\":{\"line\":{\"color\":\"#E5ECF6\",\"width\":0.5},\"pattern\":{\"fillmode\":\"overlay\",\"size\":10,\"solidity\":0.2}},\"type\":\"barpolar\"}],\"pie\":[{\"automargin\":true,\"type\":\"pie\"}]},\"layout\":{\"autotypenumbers\":\"strict\",\"colorway\":[\"#636efa\",\"#EF553B\",\"#00cc96\",\"#ab63fa\",\"#FFA15A\",\"#19d3f3\",\"#FF6692\",\"#B6E880\",\"#FF97FF\",\"#FECB52\"],\"font\":{\"color\":\"#2a3f5f\"},\"hovermode\":\"closest\",\"hoverlabel\":{\"align\":\"left\"},\"paper_bgcolor\":\"white\",\"plot_bgcolor\":\"#E5ECF6\",\"polar\":{\"bgcolor\":\"#E5ECF6\",\"angularaxis\":{\"gridcolor\":\"white\",\"linecolor\":\"white\",\"ticks\":\"\"},\"radialaxis\":{\"gridcolor\":\"white\",\"linecolor\":\"white\",\"ticks\":\"\"}},\"ternary\":{\"bgcolor\":\"#E5ECF6\",\"aaxis\":{\"gridcolor\":\"white\",\"linecolor\":\"white\",\"ticks\":\"\"},\"baxis\":{\"gridcolor\":\"white\",\"linecolor\":\"white\",\"ticks\":\"\"},\"caxis\":{\"gridcolor\":\"white\",\"linecolor\":\"white\",\"ticks\":\"\"}},\"coloraxis\":{\"colorbar\":{\"outlinewidth\":0,\"ticks\":\"\"}},\"colorscale\":{\"sequential\":[[0.0,\"#0d0887\"],[0.1111111111111111,\"#46039f\"],[0.2222222222222222,\"#7201a8\"],[0.3333333333333333,\"#9c179e\"],[0.4444444444444444,\"#bd3786\"],[0.5555555555555556,\"#d8576b\"],[0.6666666666666666,\"#ed7953\"],[0.7777777777777778,\"#fb9f3a\"],[0.8888888888888888,\"#fdca26\"],[1.0,\"#f0f921\"]],\"sequentialminus\":[[0.0,\"#0d0887\"],[0.1111111111111111,\"#46039f\"],[0.2222222222222222,\"#7201a8\"],[0.3333333333333333,\"#9c179e\"],[0.4444444444444444,\"#bd3786\"],[0.5555555555555556,\"#d8576b\"],[0.6666666666666666,\"#ed7953\"],[0.7777777777777778,\"#fb9f3a\"],[0.8888888888888888,\"#fdca26\"],[1.0,\"#f0f921\"]],\"diverging\":[[0,\"#8e0152\"],[0.1,\"#c51b7d\"],[0.2,\"#de77ae\"],[0.3,\"#f1b6da\"],[0.4,\"#fde0ef\"],[0.5,\"#f7f7f7\"],[0.6,\"#e6f5d0\"],[0.7,\"#b8e186\"],[0.8,\"#7fbc41\"],[0.9,\"#4d9221\"],[1,\"#276419\"]]},\"xaxis\":{\"gridcolor\":\"white\",\"linecolor\":\"white\",\"ticks\":\"\",\"title\":{\"standoff\":15},\"zerolinecolor\":\"white\",\"automargin\":true,\"zerolinewidth\":2},\"yaxis\":{\"gridcolor\":\"white\",\"linecolor\":\"white\",\"ticks\":\"\",\"title\":{\"standoff\":15},\"zerolinecolor\":\"white\",\"automargin\":true,\"zerolinewidth\":2},\"scene\":{\"xaxis\":{\"backgroundcolor\":\"#E5ECF6\",\"gridcolor\":\"white\",\"linecolor\":\"white\",\"showbackground\":true,\"ticks\":\"\",\"zerolinecolor\":\"white\",\"gridwidth\":2},\"yaxis\":{\"backgroundcolor\":\"#E5ECF6\",\"gridcolor\":\"white\",\"linecolor\":\"white\",\"showbackground\":true,\"ticks\":\"\",\"zerolinecolor\":\"white\",\"gridwidth\":2},\"zaxis\":{\"backgroundcolor\":\"#E5ECF6\",\"gridcolor\":\"white\",\"linecolor\":\"white\",\"showbackground\":true,\"ticks\":\"\",\"zerolinecolor\":\"white\",\"gridwidth\":2}},\"shapedefaults\":{\"line\":{\"color\":\"#2a3f5f\"}},\"annotationdefaults\":{\"arrowcolor\":\"#2a3f5f\",\"arrowhead\":0,\"arrowwidth\":1},\"geo\":{\"bgcolor\":\"white\",\"landcolor\":\"#E5ECF6\",\"subunitcolor\":\"white\",\"showland\":true,\"showlakes\":true,\"lakecolor\":\"white\"},\"title\":{\"x\":0.05},\"mapbox\":{\"style\":\"light\"}}},\"xaxis\":{\"title\":{\"text\":\"Epoch\"}},\"yaxis\":{\"title\":{\"text\":\"Loss\"}},\"title\":{\"text\":\"Evolution of Loss across Epochs\",\"font\":{\"size\":20},\"x\":0.5},\"height\":500,\"width\":1200},                        {\"responsive\": true}                    ).then(function(){\n",
              "                            \n",
              "var gd = document.getElementById('06ad7928-b54d-4ebc-a2f7-29af4c8c1320');\n",
              "var x = new MutationObserver(function (mutations, observer) {{\n",
              "        var display = window.getComputedStyle(gd).display;\n",
              "        if (!display || display === 'none') {{\n",
              "            console.log([gd, 'removed!']);\n",
              "            Plotly.purge(gd);\n",
              "            observer.disconnect();\n",
              "        }}\n",
              "}});\n",
              "\n",
              "// Listen for the removal of the full notebook cells\n",
              "var notebookContainer = gd.closest('#notebook-container');\n",
              "if (notebookContainer) {{\n",
              "    x.observe(notebookContainer, {childList: true});\n",
              "}}\n",
              "\n",
              "// Listen for the clearing of the current output cell\n",
              "var outputEl = gd.closest('.output');\n",
              "if (outputEl) {{\n",
              "    x.observe(outputEl, {childList: true});\n",
              "}}\n",
              "\n",
              "                        })                };                            </script>        </div>\n",
              "</body>\n",
              "</html>"
            ]
          },
          "metadata": {},
          "output_type": "display_data"
        }
      ],
      "source": [
        "plot_metrics()"
      ]
    },
    {
      "cell_type": "markdown",
      "metadata": {
        "id": "3ZxQzcbFuUaF"
      },
      "source": [
        "**Images for GitHub**"
      ]
    },
    {
      "cell_type": "code",
      "execution_count": 22,
      "metadata": {
        "colab": {
          "base_uri": "https://localhost:8080/",
          "height": 517
        },
        "collapsed": true,
        "id": "jU2ln7oba0bo",
        "outputId": "79912ce0-b33e-42b1-ea2f-7db30a92b219"
      },
      "outputs": [
        {
          "data": {
            "image/png": "[encoded data removed]"
          },
          "metadata": {},
          "output_type": "display_data"
        }
      ],
      "source": [
        "plot_metrics(renderer=\"png\")"
      ]
    },
    {
      "cell_type": "markdown",
      "metadata": {
        "id": "9NhEDFT-uiav"
      },
      "source": [
        "## **Text Generation with the Trained Model**"
      ]
    },
    {
      "cell_type": "code",
      "execution_count": 10,
      "metadata": {
        "colab": {
          "base_uri": "https://localhost:8080/"
        },
        "id": "KWo6Im5NNN1e",
        "outputId": "9534fc31-32a5-443c-cf75-6d3022775099"
      },
      "outputs": [
        {
          "name": "stdout",
          "output_type": "stream",
          "text": [
            "Model: \"model\"\n",
            "_________________________________________________________________\n",
            " Layer (type)                Output Shape              Param #   \n",
            "=================================================================\n",
            " embedding (Embedding)       (None, None, 256)         16896     \n",
            "                                                                 \n",
            " lstm (LSTM)                 [(None, None, 256),       525312    \n",
            "                              (None, 256),                       \n",
            "                              (None, 256)]                       \n",
            "                                                                 \n",
            " dense (Dense)               (None, None, 66)          16962     \n",
            "                                                                 \n",
            "=================================================================\n",
            "Total params: 559170 (2.13 MB)\n",
            "Trainable params: 559170 (2.13 MB)\n",
            "Non-trainable params: 0 (0.00 Byte)\n",
            "_________________________________________________________________\n"
          ]
        }
      ],
      "source": [
        "# Load the trained model\n",
        "tf.keras.backend.clear_session()\n",
        "\n",
        "model = tf.keras.models.load_model(trained_model_path)\n",
        "model.call(tf.keras.Input(shape=(None,)))\n",
        "model.summary()"
      ]
    },
    {
      "cell_type": "markdown",
      "metadata": {
        "id": "oTVgfQ8VYzUS"
      },
      "source": [
        "The custom class for text generation selects characters by sampling from the output distribution using `tf.random.categorical`. This distribution is based on the logits over the character vocabulary. Using `argmax` instead of this technique could cause the model to get stuck in a loop, continuously repeating the same characters.\n",
        "\n",
        "Temperature is also considered for predictions. A value of 1.0 does not affect the predictions; a value less than 1.0 makes them more deterministic and precise, although a value very close to 0 can cause the model to get stuck in a loop generating the same characters. A value greater than 1.0 produces more creative and less precise, more random predictions. In this case, a value of 0.75 is used to achieve a good balance between coherence and creativity, which is useful for generating interesting and varied text without losing too much structure."
      ]
    },
    {
      "cell_type": "code",
      "execution_count": 69,
      "metadata": {
        "id": "fgEJCYu8C5Jt"
      },
      "outputs": [],
      "source": [
        "class GenerateText(Tokenizer):\n",
        "  def __init__(self, temperature=1.0):\n",
        "    super().__init__(text)\n",
        "    self.temperature = temperature\n",
        "    # Mask to discard the ID 0 ([UNK])\n",
        "    self.mask = tf.scatter_nd([[0]], [-float(\"inf\")], [self.vocab_size])\n",
        "\n",
        "  @tf.function\n",
        "  def generate_one_step(self, inputs, states):\n",
        "    input_ids = self.text_to_ids(inputs)\n",
        "    logits, states = model(input_ids, states=states, return_state=True)\n",
        "    logits = logits.to_tensor()[:, -1, :]\n",
        "    logits /= self.temperature\n",
        "    logits += self.mask\n",
        "\n",
        "    predicted_ids = tf.random.categorical(logits, num_samples=1)[0]\n",
        "    predicted_char = self.ids_to_chars(predicted_ids)\n",
        "\n",
        "    return predicted_char, states\n",
        "\n",
        "  def generate_chars(self, num_chars=100, prefix=\" \"):\n",
        "    next_char = tf.constant([prefix])\n",
        "    # Shade the prefix in yellow\n",
        "    prefix = f\"<span style='background-color: yellow;'>{prefix}</span>\"\n",
        "    states = None\n",
        "\n",
        "    for _ in tqdm(range(num_chars)):\n",
        "      next_char, states = self.generate_one_step(next_char, states)\n",
        "      prefix += next_char.numpy()[0].decode(\"utf-8\")\n",
        "    \n",
        "    # Replace '\\n' with '<br>' to make the line break visible in HTML format\n",
        "    prefix = prefix.replace(\"\\n\", \"<br>\")\n",
        "    \n",
        "    display(HTML(f\"<b>GENERATED TEXT:</b><br><br>\"))\n",
        "    display(HTML(prefix))"
      ]
    },
    {
      "cell_type": "code",
      "execution_count": 75,
      "metadata": {
        "id": "zEim81VWTU44"
      },
      "outputs": [],
      "source": [
        "text_generator = GenerateText(temperature=0.75)"
      ]
    },
    {
      "cell_type": "code",
      "execution_count": 148,
      "metadata": {
        "colab": {
          "base_uri": "https://localhost:8080/",
          "height": 657,
          "referenced_widgets": [
            "399facde31a7480f8055bafde454eb9a",
            "3831e1951ca84f749c8f0703abdbe4b2",
            "ff76a77224104698b1666319c002fcc5",
            "5d9ff1afb6eb4ee28ab362ded0e3603c",
            "2aa97627ac844103ba03e3c6482de939",
            "62a6909ff5ef4ab68aa4d1aaff40fdd0",
            "75ef92586641402d9fae7ac584837569",
            "b8d6e87c55ab49bb976508fb48b576aa",
            "1c97b57c47c54c7eb803107e42ee052f",
            "08563d6f76124815b424b9276561ed64",
            "03288129f01b4b7f94356109cd2c9f6b"
          ]
        },
        "id": "5bfg7UiVWLOR",
        "outputId": "1567feb5-6c5f-4d22-b29e-9e8250110eea"
      },
      "outputs": [
        {
          "data": {
            "application/vnd.jupyter.widget-view+json": {
              "model_id": "399facde31a7480f8055bafde454eb9a",
              "version_major": 2,
              "version_minor": 0
            },
            "text/plain": [
              "  0%|          | 0/1000 [00:00<?, ?it/s]"
            ]
          },
          "metadata": {},
          "output_type": "display_data"
        },
        {
          "data": {
            "text/html": [
              "<b>GENERATED TEXT:</b><br><br>"
            ],
            "text/plain": [
              "<IPython.core.display.HTML object>"
            ]
          },
          "metadata": {},
          "output_type": "display_data"
        },
        {
          "data": {
            "text/html": [
              "<span style='background-color: yellow;'>K</span>ING EDWARD IV:<br>Which you think alone, it is shences his child,<br>And so made in your fearful vow to dies.<br><br>MONTAGUE:<br>I would it be; and make we her an all the faults<br>To be a straight to consciled shall not made<br>Because it before you think honour will<br>Is beed the house to live you as more weight<br>Beconded the unfice of your entrantce<br>And law and returners that a grace is a<br>heart the arms of husband the man of York.<br><br>DUKE VINCENTIO:<br>He do the country foolish'd formil thou<br>was a little three thou he uncle the people whole back,<br>Till with loss of their sictions struth and news<br>Unto yet master for thee him;<br>That with my lord, but not where he talk and near<br>That charges and conventy of your body;<br>To stoth the sun it with recomful.<br><br>MARINA:<br>Now, good faith like a barris of the dismosing and base<br>Till he the like than fair had Bonion<br>And bless the came to chipt?<br><br>DUKE VINCENTIO:<br>Nay, and being some country, which I come us<br>the poor is but. My faireedly of the challans,<br>And for the courte.<br><br>Clown:"
            ],
            "text/plain": [
              "<IPython.core.display.HTML object>"
            ]
          },
          "metadata": {},
          "output_type": "display_data"
        }
      ],
      "source": [
        "text_generator.generate_chars(num_chars=1000, prefix=\"K\")"
      ]
    },
    {
      "cell_type": "code",
      "execution_count": 92,
      "metadata": {
        "colab": {
          "base_uri": "https://localhost:8080/",
          "height": 396,
          "referenced_widgets": [
            "4627da5b885948b5862a304d01a9ec71",
            "090d7495c94d48739a06dd983761a77c",
            "6ba6f537d3934f8fb96c43890a643161",
            "13a5f28b17b54dd79138e068b0b79097",
            "5574287508134b03a8ccc64601640902",
            "23f7657ab70a4e3ea83bd98692ad90f3",
            "0b657f1c74d0410192699e9256ce9735",
            "a261cbb555ae4611aadb499b4c993aa1",
            "a625a5b8b0c74591a9641495563b9f02",
            "05596fa15dfa4ca1a823dfc72fcf5a13",
            "a82295ae8b1142c69007272d9fd06855"
          ]
        },
        "id": "WKEsdAFTjzul",
        "outputId": "b5220ccd-dc05-42b7-b281-991805fa3256"
      },
      "outputs": [
        {
          "data": {
            "application/vnd.jupyter.widget-view+json": {
              "model_id": "4627da5b885948b5862a304d01a9ec71",
              "version_major": 2,
              "version_minor": 0
            },
            "text/plain": [
              "  0%|          | 0/500 [00:00<?, ?it/s]"
            ]
          },
          "metadata": {},
          "output_type": "display_data"
        },
        {
          "data": {
            "text/html": [
              "<b>GENERATED TEXT:</b><br><br>"
            ],
            "text/plain": [
              "<IPython.core.display.HTML object>"
            ]
          },
          "metadata": {},
          "output_type": "display_data"
        },
        {
          "data": {
            "text/html": [
              "<span style='background-color: yellow;'>QUEEN</span> MARGARET:<br>Good men, be keep thee, some soul to be maid<br>Which it will pure him with your officers.<br><br>ROMEO:<br>Be the lost of your man we'll seem to the chair,<br>If not the foath of his account shall captant,<br>But with contrainet, make so do it.<br><br>ISABELLA:<br>This my husband, you office be blood:<br>The great Edward's death groans to tear that hand<br>And in the guest.<br><br>Clown:<br>As you shall run so such easily to you!<br>How now, not all the truth, I would they shall<br>all he doth the more than my curse man, the peopl"
            ],
            "text/plain": [
              "<IPython.core.display.HTML object>"
            ]
          },
          "metadata": {},
          "output_type": "display_data"
        }
      ],
      "source": [
        "text_generator.generate_chars(num_chars=500, prefix=\"QUEEN\")"
      ]
    },
    {
      "cell_type": "code",
      "execution_count": 97,
      "metadata": {
        "colab": {
          "base_uri": "https://localhost:8080/",
          "height": 1000,
          "referenced_widgets": [
            "02e8f785f350400f8b03b637f388f1fa",
            "c4a5e6ac09c14950809f549bece474f6",
            "bac790b3f101474aaed8e7161ff7f2a8",
            "3e17946117f04160bf53b52a4fe6b62e",
            "cb72a37f2f3f4fa2afd115c3d2c868dd",
            "746f1832ab684e81966b59ac63818318",
            "b3c9d5480b4e4c7493a2842cf957d902",
            "99741fe8920147a6867cdb91890b47d3",
            "17dfe44c2a3b47d0af010f1b93d3ff79",
            "89b0fa4e9ab3451a9692a4e679b949e2",
            "b9af6a19d5644f8eb9f956a574dbe667"
          ]
        },
        "id": "URX2CrDfldo9",
        "outputId": "67e5044d-73d9-4a69-f68a-cbf5718bb65f"
      },
      "outputs": [
        {
          "data": {
            "application/vnd.jupyter.widget-view+json": {
              "model_id": "02e8f785f350400f8b03b637f388f1fa",
              "version_major": 2,
              "version_minor": 0
            },
            "text/plain": [
              "  0%|          | 0/2000 [00:00<?, ?it/s]"
            ]
          },
          "metadata": {},
          "output_type": "display_data"
        },
        {
          "data": {
            "text/html": [
              "<b>GENERATED TEXT:</b><br><br>"
            ],
            "text/plain": [
              "<IPython.core.display.HTML object>"
            ]
          },
          "metadata": {},
          "output_type": "display_data"
        },
        {
          "data": {
            "text/html": [
              "<span style='background-color: yellow;'>Dear</span> not your sorr this: I will lawful patition<br>be guilt, the death to save your torms of tyrance<br>To sig to be not by great--<br>Thou were repent you king you about them?<br><br>First Luscon:<br>I thank you tope your bright in this therefor,<br>And that peers with the liok of what death.<br><br>PAULINA:<br>O, the present?<br><br>ISABELLA:<br>I were no love!<br>What my proororions, you shall not warrant a widow,<br>The wind of the garse, sirs will be in a hin<br>Her brothers.<br><br>ANGELO:<br>Not he so heavy woes off, I his death of his sight,<br>More than when there dishes for his man<br>Of him from this fair father to such a<br>gentleman ballay than you and do there no more<br>Than the aspicion that I say, take you<br>That I have even a man a gentleman?<br><br>ANGELO:<br>She may be the soul and like our mory and<br>To hope you the indeed for the return.<br><br>LUCIO:<br>I have not dood, and now, where that speak not, made,<br>For by the gentleman in the life, you are<br>In hother anone their queen's lord of the<br>duke the trumpetion rouse and know it in his famom<br>Succord,<br>With his night of the strest of the sword<br>Was the prince no more heart.<br><br>First Citizen:<br>He should the churrion of his then.<br><br>DUKE VINCENTIO:<br>Even them I wakes my mean's royal tribunes,<br>That you know's so the true voice and comple.<br><br>DUKE VINCENTIO:<br>He supper, heaven with such her wanton to ble<br>the darlist the truth of sim now the fall of the right;<br>The sense have the trown's, with our heart.<br><br>YORK:<br>Ah, at a dathery, and the king.<br><br>Shepherd:<br>Let it with my coursures loy's adoly<br>Than you meet her decrees so, first my villain,<br>That thou hast an our outs some hearts to thee.<br><br>MAMILLIUS:<br>Have you.<br><br>DUKE VINCENTIO:<br>And make hope, and not such glad to sir.<br><br>WARWICK:<br>It is nere good proclaim<br>To be that please you.<br><br>FLORIZEL:<br>What can be remock the firms and daughter, these manes;<br>These speedits for an extression of your head<br>A man my sought her for your brother's lord<br>By a mercy not the world struck is the poor's counself<br>By might his prince to a son I crest;<br>Yet these he bage of form man of the lady.<br>"
            ],
            "text/plain": [
              "<IPython.core.display.HTML object>"
            ]
          },
          "metadata": {},
          "output_type": "display_data"
        }
      ],
      "source": [
        "text_generator.generate_chars(num_chars=2000, prefix=\"Dear\")"
      ]
    },
    {
      "cell_type": "code",
      "execution_count": 103,
      "metadata": {
        "colab": {
          "base_uri": "https://localhost:8080/",
          "height": 743,
          "referenced_widgets": [
            "6b19da8bf6e24393bd437c9d358e8649",
            "5eaa4f5f864e42c9b89b5229b9309dac",
            "c9110f1086ec4791b2f5bd7100f57512",
            "66d6a71c441f4d83b2978608438aa6cc",
            "b5895a84e6b84daaa05843bde2243f8f",
            "17547c5319a640dfbe1072a5ce36b13b",
            "7282469589b1494d9eefec38e91009e3",
            "afc0be73b1e04fd7b9c7fd5d729ff7fa",
            "2a3e53adb5924f9bb302a224038b6337",
            "aedb26cbd29545f2a9540c7b4f8eb32f",
            "d66800fa1da64df2878500913dd70020"
          ]
        },
        "id": "va8O9t9AmZbn",
        "outputId": "de784cb6-6057-4348-f0ba-95dbc442f8a9"
      },
      "outputs": [
        {
          "data": {
            "application/vnd.jupyter.widget-view+json": {
              "model_id": "6b19da8bf6e24393bd437c9d358e8649",
              "version_major": 2,
              "version_minor": 0
            },
            "text/plain": [
              "  0%|          | 0/1000 [00:00<?, ?it/s]"
            ]
          },
          "metadata": {},
          "output_type": "display_data"
        },
        {
          "data": {
            "text/html": [
              "<b>GENERATED TEXT:</b><br><br>"
            ],
            "text/plain": [
              "<IPython.core.display.HTML object>"
            ]
          },
          "metadata": {},
          "output_type": "display_data"
        },
        {
          "data": {
            "text/html": [
              "<span style='background-color: yellow;'>O fair and noble maiden,</span> the most course,<br>So thoughts purpose mage it be such a trial,<br>But the king well be exigh are you home.<br><br>DUKE VINCENTIO:<br>What's the most found hath been down for the deed.<br><br>ANGELOW:<br>These takes<br>you a porrate but to your counsels and his<br>is the time of honour of the queen, to be no<br>Romeo.<br><br>LEONTES:<br>Pray the lost cousin, the metter the valish'd,<br>That I'll be; if the morners of thy taught<br>Unkilly that like the world with unto my<br>Do the prove with brick: they came the crown to you.<br>O, but he woe to art thou astends door<br>Of you this self--<br>Look me stands and good queen and you would,<br>It wish the lost of my cheek of man fall,<br>And will be wrong on the teals of speens.<br><br>Provost:<br>I would the aughter.<br><br>Provost:<br>There not come?<br><br>POMPEY:<br>Ay, and neiture of his hands so much butstand<br>To have your common so dost the town<br>And dread the time. Trups and Margarets that she<br>unjusted next thing was the world to see you.<br>You in the strange of your truth of the news<br>In suspices, no more news that wonders<br>Wi"
            ],
            "text/plain": [
              "<IPython.core.display.HTML object>"
            ]
          },
          "metadata": {},
          "output_type": "display_data"
        }
      ],
      "source": [
        "text_generator.generate_chars(\n",
        "    num_chars=1000,\n",
        "    prefix=\"O fair and noble maiden,\"\n",
        ")"
      ]
    },
    {
      "cell_type": "markdown",
      "metadata": {
        "id": "_ufZpqgDAcQR"
      },
      "source": [
        "**Conclusion:** The text generation model has successfully captured the structure of a theatrical work, beginning text blocks with speakers' names in uppercase. However, coherence is partial; while some phrases are grammatically correct, most lack complete meaning. In terms of style, the model has partly adopted Shakespeare's style, using language and sentence structures reminiscent of his works, though overall coherence remains a challenge. To achieve better results, expanding the dataset and/or employing more advanced models like Transformers, such as GPT-2, is necessary."
      ]
    }
  ],
  "metadata": {
    "colab": {
      "provenance": []
    },
    "coursera": {
      "schema_names": [
        "NLPC3-4A"
      ]
    },
    "grader_version": "1",
    "kernelspec": {
      "display_name": "Python 3",
      "name": "python3"
    },
    "language_info": {
      "codemirror_mode": {
        "name": "ipython",
        "version": 3
      },
      "file_extension": ".py",
      "mimetype": "text/x-python",
      "name": "python",
      "nbconvert_exporter": "python",
      "pygments_lexer": "ipython3",
      "version": "3.8.10"
    },
    "widgets": {
      "application/vnd.jupyter.widget-state+json": {
        "02e8f785f350400f8b03b637f388f1fa": {
          "model_module": "@jupyter-widgets/controls",
          "model_module_version": "1.5.0",
          "model_name": "HBoxModel",
          "state": {
            "_dom_classes": [],
            "_model_module": "@jupyter-widgets/controls",
            "_model_module_version": "1.5.0",
            "_model_name": "HBoxModel",
            "_view_count": null,
            "_view_module": "@jupyter-widgets/controls",
            "_view_module_version": "1.5.0",
            "_view_name": "HBoxView",
            "box_style": "",
            "children": [
              "IPY_MODEL_c4a5e6ac09c14950809f549bece474f6",
              "IPY_MODEL_bac790b3f101474aaed8e7161ff7f2a8",
              "IPY_MODEL_3e17946117f04160bf53b52a4fe6b62e"
            ],
            "layout": "IPY_MODEL_cb72a37f2f3f4fa2afd115c3d2c868dd"
          }
        },
        "03288129f01b4b7f94356109cd2c9f6b": {
          "model_module": "@jupyter-widgets/controls",
          "model_module_version": "1.5.0",
          "model_name": "DescriptionStyleModel",
          "state": {
            "_model_module": "@jupyter-widgets/controls",
            "_model_module_version": "1.5.0",
            "_model_name": "DescriptionStyleModel",
            "_view_count": null,
            "_view_module": "@jupyter-widgets/base",
            "_view_module_version": "1.2.0",
            "_view_name": "StyleView",
            "description_width": ""
          }
        },
        "05596fa15dfa4ca1a823dfc72fcf5a13": {
          "model_module": "@jupyter-widgets/base",
          "model_module_version": "1.2.0",
          "model_name": "LayoutModel",
          "state": {
            "_model_module": "@jupyter-widgets/base",
            "_model_module_version": "1.2.0",
            "_model_name": "LayoutModel",
            "_view_count": null,
            "_view_module": "@jupyter-widgets/base",
            "_view_module_version": "1.2.0",
            "_view_name": "LayoutView",
            "align_content": null,
            "align_items": null,
            "align_self": null,
            "border": null,
            "bottom": null,
            "display": null,
            "flex": null,
            "flex_flow": null,
            "grid_area": null,
            "grid_auto_columns": null,
            "grid_auto_flow": null,
            "grid_auto_rows": null,
            "grid_column": null,
            "grid_gap": null,
            "grid_row": null,
            "grid_template_areas": null,
            "grid_template_columns": null,
            "grid_template_rows": null,
            "height": null,
            "justify_content": null,
            "justify_items": null,
            "left": null,
            "margin": null,
            "max_height": null,
            "max_width": null,
            "min_height": null,
            "min_width": null,
            "object_fit": null,
            "object_position": null,
            "order": null,
            "overflow": null,
            "overflow_x": null,
            "overflow_y": null,
            "padding": null,
            "right": null,
            "top": null,
            "visibility": null,
            "width": null
          }
        },
        "08563d6f76124815b424b9276561ed64": {
          "model_module": "@jupyter-widgets/base",
          "model_module_version": "1.2.0",
          "model_name": "LayoutModel",
          "state": {
            "_model_module": "@jupyter-widgets/base",
            "_model_module_version": "1.2.0",
            "_model_name": "LayoutModel",
            "_view_count": null,
            "_view_module": "@jupyter-widgets/base",
            "_view_module_version": "1.2.0",
            "_view_name": "LayoutView",
            "align_content": null,
            "align_items": null,
            "align_self": null,
            "border": null,
            "bottom": null,
            "display": null,
            "flex": null,
            "flex_flow": null,
            "grid_area": null,
            "grid_auto_columns": null,
            "grid_auto_flow": null,
            "grid_auto_rows": null,
            "grid_column": null,
            "grid_gap": null,
            "grid_row": null,
            "grid_template_areas": null,
            "grid_template_columns": null,
            "grid_template_rows": null,
            "height": null,
            "justify_content": null,
            "justify_items": null,
            "left": null,
            "margin": null,
            "max_height": null,
            "max_width": null,
            "min_height": null,
            "min_width": null,
            "object_fit": null,
            "object_position": null,
            "order": null,
            "overflow": null,
            "overflow_x": null,
            "overflow_y": null,
            "padding": null,
            "right": null,
            "top": null,
            "visibility": null,
            "width": null
          }
        },
        "090d7495c94d48739a06dd983761a77c": {
          "model_module": "@jupyter-widgets/controls",
          "model_module_version": "1.5.0",
          "model_name": "HTMLModel",
          "state": {
            "_dom_classes": [],
            "_model_module": "@jupyter-widgets/controls",
            "_model_module_version": "1.5.0",
            "_model_name": "HTMLModel",
            "_view_count": null,
            "_view_module": "@jupyter-widgets/controls",
            "_view_module_version": "1.5.0",
            "_view_name": "HTMLView",
            "description": "",
            "description_tooltip": null,
            "layout": "IPY_MODEL_23f7657ab70a4e3ea83bd98692ad90f3",
            "placeholder": "​",
            "style": "IPY_MODEL_0b657f1c74d0410192699e9256ce9735",
            "value": "100%"
          }
        },
        "0b657f1c74d0410192699e9256ce9735": {
          "model_module": "@jupyter-widgets/controls",
          "model_module_version": "1.5.0",
          "model_name": "DescriptionStyleModel",
          "state": {
            "_model_module": "@jupyter-widgets/controls",
            "_model_module_version": "1.5.0",
            "_model_name": "DescriptionStyleModel",
            "_view_count": null,
            "_view_module": "@jupyter-widgets/base",
            "_view_module_version": "1.2.0",
            "_view_name": "StyleView",
            "description_width": ""
          }
        },
        "13a5f28b17b54dd79138e068b0b79097": {
          "model_module": "@jupyter-widgets/controls",
          "model_module_version": "1.5.0",
          "model_name": "HTMLModel",
          "state": {
            "_dom_classes": [],
            "_model_module": "@jupyter-widgets/controls",
            "_model_module_version": "1.5.0",
            "_model_name": "HTMLModel",
            "_view_count": null,
            "_view_module": "@jupyter-widgets/controls",
            "_view_module_version": "1.5.0",
            "_view_name": "HTMLView",
            "description": "",
            "description_tooltip": null,
            "layout": "IPY_MODEL_05596fa15dfa4ca1a823dfc72fcf5a13",
            "placeholder": "​",
            "style": "IPY_MODEL_a82295ae8b1142c69007272d9fd06855",
            "value": " 500/500 [00:02&lt;00:00, 209.07it/s]"
          }
        },
        "17547c5319a640dfbe1072a5ce36b13b": {
          "model_module": "@jupyter-widgets/base",
          "model_module_version": "1.2.0",
          "model_name": "LayoutModel",
          "state": {
            "_model_module": "@jupyter-widgets/base",
            "_model_module_version": "1.2.0",
            "_model_name": "LayoutModel",
            "_view_count": null,
            "_view_module": "@jupyter-widgets/base",
            "_view_module_version": "1.2.0",
            "_view_name": "LayoutView",
            "align_content": null,
            "align_items": null,
            "align_self": null,
            "border": null,
            "bottom": null,
            "display": null,
            "flex": null,
            "flex_flow": null,
            "grid_area": null,
            "grid_auto_columns": null,
            "grid_auto_flow": null,
            "grid_auto_rows": null,
            "grid_column": null,
            "grid_gap": null,
            "grid_row": null,
            "grid_template_areas": null,
            "grid_template_columns": null,
            "grid_template_rows": null,
            "height": null,
            "justify_content": null,
            "justify_items": null,
            "left": null,
            "margin": null,
            "max_height": null,
            "max_width": null,
            "min_height": null,
            "min_width": null,
            "object_fit": null,
            "object_position": null,
            "order": null,
            "overflow": null,
            "overflow_x": null,
            "overflow_y": null,
            "padding": null,
            "right": null,
            "top": null,
            "visibility": null,
            "width": null
          }
        },
        "17dfe44c2a3b47d0af010f1b93d3ff79": {
          "model_module": "@jupyter-widgets/controls",
          "model_module_version": "1.5.0",
          "model_name": "ProgressStyleModel",
          "state": {
            "_model_module": "@jupyter-widgets/controls",
            "_model_module_version": "1.5.0",
            "_model_name": "ProgressStyleModel",
            "_view_count": null,
            "_view_module": "@jupyter-widgets/base",
            "_view_module_version": "1.2.0",
            "_view_name": "StyleView",
            "bar_color": null,
            "description_width": ""
          }
        },
        "1c97b57c47c54c7eb803107e42ee052f": {
          "model_module": "@jupyter-widgets/controls",
          "model_module_version": "1.5.0",
          "model_name": "ProgressStyleModel",
          "state": {
            "_model_module": "@jupyter-widgets/controls",
            "_model_module_version": "1.5.0",
            "_model_name": "ProgressStyleModel",
            "_view_count": null,
            "_view_module": "@jupyter-widgets/base",
            "_view_module_version": "1.2.0",
            "_view_name": "StyleView",
            "bar_color": null,
            "description_width": ""
          }
        },
        "23f7657ab70a4e3ea83bd98692ad90f3": {
          "model_module": "@jupyter-widgets/base",
          "model_module_version": "1.2.0",
          "model_name": "LayoutModel",
          "state": {
            "_model_module": "@jupyter-widgets/base",
            "_model_module_version": "1.2.0",
            "_model_name": "LayoutModel",
            "_view_count": null,
            "_view_module": "@jupyter-widgets/base",
            "_view_module_version": "1.2.0",
            "_view_name": "LayoutView",
            "align_content": null,
            "align_items": null,
            "align_self": null,
            "border": null,
            "bottom": null,
            "display": null,
            "flex": null,
            "flex_flow": null,
            "grid_area": null,
            "grid_auto_columns": null,
            "grid_auto_flow": null,
            "grid_auto_rows": null,
            "grid_column": null,
            "grid_gap": null,
            "grid_row": null,
            "grid_template_areas": null,
            "grid_template_columns": null,
            "grid_template_rows": null,
            "height": null,
            "justify_content": null,
            "justify_items": null,
            "left": null,
            "margin": null,
            "max_height": null,
            "max_width": null,
            "min_height": null,
            "min_width": null,
            "object_fit": null,
            "object_position": null,
            "order": null,
            "overflow": null,
            "overflow_x": null,
            "overflow_y": null,
            "padding": null,
            "right": null,
            "top": null,
            "visibility": null,
            "width": null
          }
        },
        "2a3e53adb5924f9bb302a224038b6337": {
          "model_module": "@jupyter-widgets/controls",
          "model_module_version": "1.5.0",
          "model_name": "ProgressStyleModel",
          "state": {
            "_model_module": "@jupyter-widgets/controls",
            "_model_module_version": "1.5.0",
            "_model_name": "ProgressStyleModel",
            "_view_count": null,
            "_view_module": "@jupyter-widgets/base",
            "_view_module_version": "1.2.0",
            "_view_name": "StyleView",
            "bar_color": null,
            "description_width": ""
          }
        },
        "2aa97627ac844103ba03e3c6482de939": {
          "model_module": "@jupyter-widgets/base",
          "model_module_version": "1.2.0",
          "model_name": "LayoutModel",
          "state": {
            "_model_module": "@jupyter-widgets/base",
            "_model_module_version": "1.2.0",
            "_model_name": "LayoutModel",
            "_view_count": null,
            "_view_module": "@jupyter-widgets/base",
            "_view_module_version": "1.2.0",
            "_view_name": "LayoutView",
            "align_content": null,
            "align_items": null,
            "align_self": null,
            "border": null,
            "bottom": null,
            "display": null,
            "flex": null,
            "flex_flow": null,
            "grid_area": null,
            "grid_auto_columns": null,
            "grid_auto_flow": null,
            "grid_auto_rows": null,
            "grid_column": null,
            "grid_gap": null,
            "grid_row": null,
            "grid_template_areas": null,
            "grid_template_columns": null,
            "grid_template_rows": null,
            "height": null,
            "justify_content": null,
            "justify_items": null,
            "left": null,
            "margin": null,
            "max_height": null,
            "max_width": null,
            "min_height": null,
            "min_width": null,
            "object_fit": null,
            "object_position": null,
            "order": null,
            "overflow": null,
            "overflow_x": null,
            "overflow_y": null,
            "padding": null,
            "right": null,
            "top": null,
            "visibility": null,
            "width": null
          }
        },
        "3831e1951ca84f749c8f0703abdbe4b2": {
          "model_module": "@jupyter-widgets/controls",
          "model_module_version": "1.5.0",
          "model_name": "HTMLModel",
          "state": {
            "_dom_classes": [],
            "_model_module": "@jupyter-widgets/controls",
            "_model_module_version": "1.5.0",
            "_model_name": "HTMLModel",
            "_view_count": null,
            "_view_module": "@jupyter-widgets/controls",
            "_view_module_version": "1.5.0",
            "_view_name": "HTMLView",
            "description": "",
            "description_tooltip": null,
            "layout": "IPY_MODEL_62a6909ff5ef4ab68aa4d1aaff40fdd0",
            "placeholder": "​",
            "style": "IPY_MODEL_75ef92586641402d9fae7ac584837569",
            "value": "100%"
          }
        },
        "399facde31a7480f8055bafde454eb9a": {
          "model_module": "@jupyter-widgets/controls",
          "model_module_version": "1.5.0",
          "model_name": "HBoxModel",
          "state": {
            "_dom_classes": [],
            "_model_module": "@jupyter-widgets/controls",
            "_model_module_version": "1.5.0",
            "_model_name": "HBoxModel",
            "_view_count": null,
            "_view_module": "@jupyter-widgets/controls",
            "_view_module_version": "1.5.0",
            "_view_name": "HBoxView",
            "box_style": "",
            "children": [
              "IPY_MODEL_3831e1951ca84f749c8f0703abdbe4b2",
              "IPY_MODEL_ff76a77224104698b1666319c002fcc5",
              "IPY_MODEL_5d9ff1afb6eb4ee28ab362ded0e3603c"
            ],
            "layout": "IPY_MODEL_2aa97627ac844103ba03e3c6482de939"
          }
        },
        "3e17946117f04160bf53b52a4fe6b62e": {
          "model_module": "@jupyter-widgets/controls",
          "model_module_version": "1.5.0",
          "model_name": "HTMLModel",
          "state": {
            "_dom_classes": [],
            "_model_module": "@jupyter-widgets/controls",
            "_model_module_version": "1.5.0",
            "_model_name": "HTMLModel",
            "_view_count": null,
            "_view_module": "@jupyter-widgets/controls",
            "_view_module_version": "1.5.0",
            "_view_name": "HTMLView",
            "description": "",
            "description_tooltip": null,
            "layout": "IPY_MODEL_89b0fa4e9ab3451a9692a4e679b949e2",
            "placeholder": "​",
            "style": "IPY_MODEL_b9af6a19d5644f8eb9f956a574dbe667",
            "value": " 2000/2000 [00:06&lt;00:00, 388.21it/s]"
          }
        },
        "4627da5b885948b5862a304d01a9ec71": {
          "model_module": "@jupyter-widgets/controls",
          "model_module_version": "1.5.0",
          "model_name": "HBoxModel",
          "state": {
            "_dom_classes": [],
            "_model_module": "@jupyter-widgets/controls",
            "_model_module_version": "1.5.0",
            "_model_name": "HBoxModel",
            "_view_count": null,
            "_view_module": "@jupyter-widgets/controls",
            "_view_module_version": "1.5.0",
            "_view_name": "HBoxView",
            "box_style": "",
            "children": [
              "IPY_MODEL_090d7495c94d48739a06dd983761a77c",
              "IPY_MODEL_6ba6f537d3934f8fb96c43890a643161",
              "IPY_MODEL_13a5f28b17b54dd79138e068b0b79097"
            ],
            "layout": "IPY_MODEL_5574287508134b03a8ccc64601640902"
          }
        },
        "5574287508134b03a8ccc64601640902": {
          "model_module": "@jupyter-widgets/base",
          "model_module_version": "1.2.0",
          "model_name": "LayoutModel",
          "state": {
            "_model_module": "@jupyter-widgets/base",
            "_model_module_version": "1.2.0",
            "_model_name": "LayoutModel",
            "_view_count": null,
            "_view_module": "@jupyter-widgets/base",
            "_view_module_version": "1.2.0",
            "_view_name": "LayoutView",
            "align_content": null,
            "align_items": null,
            "align_self": null,
            "border": null,
            "bottom": null,
            "display": null,
            "flex": null,
            "flex_flow": null,
            "grid_area": null,
            "grid_auto_columns": null,
            "grid_auto_flow": null,
            "grid_auto_rows": null,
            "grid_column": null,
            "grid_gap": null,
            "grid_row": null,
            "grid_template_areas": null,
            "grid_template_columns": null,
            "grid_template_rows": null,
            "height": null,
            "justify_content": null,
            "justify_items": null,
            "left": null,
            "margin": null,
            "max_height": null,
            "max_width": null,
            "min_height": null,
            "min_width": null,
            "object_fit": null,
            "object_position": null,
            "order": null,
            "overflow": null,
            "overflow_x": null,
            "overflow_y": null,
            "padding": null,
            "right": null,
            "top": null,
            "visibility": null,
            "width": null
          }
        },
        "5d9ff1afb6eb4ee28ab362ded0e3603c": {
          "model_module": "@jupyter-widgets/controls",
          "model_module_version": "1.5.0",
          "model_name": "HTMLModel",
          "state": {
            "_dom_classes": [],
            "_model_module": "@jupyter-widgets/controls",
            "_model_module_version": "1.5.0",
            "_model_name": "HTMLModel",
            "_view_count": null,
            "_view_module": "@jupyter-widgets/controls",
            "_view_module_version": "1.5.0",
            "_view_name": "HTMLView",
            "description": "",
            "description_tooltip": null,
            "layout": "IPY_MODEL_08563d6f76124815b424b9276561ed64",
            "placeholder": "​",
            "style": "IPY_MODEL_03288129f01b4b7f94356109cd2c9f6b",
            "value": " 1000/1000 [00:02&lt;00:00, 383.01it/s]"
          }
        },
        "5eaa4f5f864e42c9b89b5229b9309dac": {
          "model_module": "@jupyter-widgets/controls",
          "model_module_version": "1.5.0",
          "model_name": "HTMLModel",
          "state": {
            "_dom_classes": [],
            "_model_module": "@jupyter-widgets/controls",
            "_model_module_version": "1.5.0",
            "_model_name": "HTMLModel",
            "_view_count": null,
            "_view_module": "@jupyter-widgets/controls",
            "_view_module_version": "1.5.0",
            "_view_name": "HTMLView",
            "description": "",
            "description_tooltip": null,
            "layout": "IPY_MODEL_17547c5319a640dfbe1072a5ce36b13b",
            "placeholder": "​",
            "style": "IPY_MODEL_7282469589b1494d9eefec38e91009e3",
            "value": "100%"
          }
        },
        "62a6909ff5ef4ab68aa4d1aaff40fdd0": {
          "model_module": "@jupyter-widgets/base",
          "model_module_version": "1.2.0",
          "model_name": "LayoutModel",
          "state": {
            "_model_module": "@jupyter-widgets/base",
            "_model_module_version": "1.2.0",
            "_model_name": "LayoutModel",
            "_view_count": null,
            "_view_module": "@jupyter-widgets/base",
            "_view_module_version": "1.2.0",
            "_view_name": "LayoutView",
            "align_content": null,
            "align_items": null,
            "align_self": null,
            "border": null,
            "bottom": null,
            "display": null,
            "flex": null,
            "flex_flow": null,
            "grid_area": null,
            "grid_auto_columns": null,
            "grid_auto_flow": null,
            "grid_auto_rows": null,
            "grid_column": null,
            "grid_gap": null,
            "grid_row": null,
            "grid_template_areas": null,
            "grid_template_columns": null,
            "grid_template_rows": null,
            "height": null,
            "justify_content": null,
            "justify_items": null,
            "left": null,
            "margin": null,
            "max_height": null,
            "max_width": null,
            "min_height": null,
            "min_width": null,
            "object_fit": null,
            "object_position": null,
            "order": null,
            "overflow": null,
            "overflow_x": null,
            "overflow_y": null,
            "padding": null,
            "right": null,
            "top": null,
            "visibility": null,
            "width": null
          }
        },
        "66d6a71c441f4d83b2978608438aa6cc": {
          "model_module": "@jupyter-widgets/controls",
          "model_module_version": "1.5.0",
          "model_name": "HTMLModel",
          "state": {
            "_dom_classes": [],
            "_model_module": "@jupyter-widgets/controls",
            "_model_module_version": "1.5.0",
            "_model_name": "HTMLModel",
            "_view_count": null,
            "_view_module": "@jupyter-widgets/controls",
            "_view_module_version": "1.5.0",
            "_view_name": "HTMLView",
            "description": "",
            "description_tooltip": null,
            "layout": "IPY_MODEL_aedb26cbd29545f2a9540c7b4f8eb32f",
            "placeholder": "​",
            "style": "IPY_MODEL_d66800fa1da64df2878500913dd70020",
            "value": " 1000/1000 [00:04&lt;00:00, 374.37it/s]"
          }
        },
        "6b19da8bf6e24393bd437c9d358e8649": {
          "model_module": "@jupyter-widgets/controls",
          "model_module_version": "1.5.0",
          "model_name": "HBoxModel",
          "state": {
            "_dom_classes": [],
            "_model_module": "@jupyter-widgets/controls",
            "_model_module_version": "1.5.0",
            "_model_name": "HBoxModel",
            "_view_count": null,
            "_view_module": "@jupyter-widgets/controls",
            "_view_module_version": "1.5.0",
            "_view_name": "HBoxView",
            "box_style": "",
            "children": [
              "IPY_MODEL_5eaa4f5f864e42c9b89b5229b9309dac",
              "IPY_MODEL_c9110f1086ec4791b2f5bd7100f57512",
              "IPY_MODEL_66d6a71c441f4d83b2978608438aa6cc"
            ],
            "layout": "IPY_MODEL_b5895a84e6b84daaa05843bde2243f8f"
          }
        },
        "6ba6f537d3934f8fb96c43890a643161": {
          "model_module": "@jupyter-widgets/controls",
          "model_module_version": "1.5.0",
          "model_name": "FloatProgressModel",
          "state": {
            "_dom_classes": [],
            "_model_module": "@jupyter-widgets/controls",
            "_model_module_version": "1.5.0",
            "_model_name": "FloatProgressModel",
            "_view_count": null,
            "_view_module": "@jupyter-widgets/controls",
            "_view_module_version": "1.5.0",
            "_view_name": "ProgressView",
            "bar_style": "success",
            "description": "",
            "description_tooltip": null,
            "layout": "IPY_MODEL_a261cbb555ae4611aadb499b4c993aa1",
            "max": 500,
            "min": 0,
            "orientation": "horizontal",
            "style": "IPY_MODEL_a625a5b8b0c74591a9641495563b9f02",
            "value": 500
          }
        },
        "7282469589b1494d9eefec38e91009e3": {
          "model_module": "@jupyter-widgets/controls",
          "model_module_version": "1.5.0",
          "model_name": "DescriptionStyleModel",
          "state": {
            "_model_module": "@jupyter-widgets/controls",
            "_model_module_version": "1.5.0",
            "_model_name": "DescriptionStyleModel",
            "_view_count": null,
            "_view_module": "@jupyter-widgets/base",
            "_view_module_version": "1.2.0",
            "_view_name": "StyleView",
            "description_width": ""
          }
        },
        "746f1832ab684e81966b59ac63818318": {
          "model_module": "@jupyter-widgets/base",
          "model_module_version": "1.2.0",
          "model_name": "LayoutModel",
          "state": {
            "_model_module": "@jupyter-widgets/base",
            "_model_module_version": "1.2.0",
            "_model_name": "LayoutModel",
            "_view_count": null,
            "_view_module": "@jupyter-widgets/base",
            "_view_module_version": "1.2.0",
            "_view_name": "LayoutView",
            "align_content": null,
            "align_items": null,
            "align_self": null,
            "border": null,
            "bottom": null,
            "display": null,
            "flex": null,
            "flex_flow": null,
            "grid_area": null,
            "grid_auto_columns": null,
            "grid_auto_flow": null,
            "grid_auto_rows": null,
            "grid_column": null,
            "grid_gap": null,
            "grid_row": null,
            "grid_template_areas": null,
            "grid_template_columns": null,
            "grid_template_rows": null,
            "height": null,
            "justify_content": null,
            "justify_items": null,
            "left": null,
            "margin": null,
            "max_height": null,
            "max_width": null,
            "min_height": null,
            "min_width": null,
            "object_fit": null,
            "object_position": null,
            "order": null,
            "overflow": null,
            "overflow_x": null,
            "overflow_y": null,
            "padding": null,
            "right": null,
            "top": null,
            "visibility": null,
            "width": null
          }
        },
        "75ef92586641402d9fae7ac584837569": {
          "model_module": "@jupyter-widgets/controls",
          "model_module_version": "1.5.0",
          "model_name": "DescriptionStyleModel",
          "state": {
            "_model_module": "@jupyter-widgets/controls",
            "_model_module_version": "1.5.0",
            "_model_name": "DescriptionStyleModel",
            "_view_count": null,
            "_view_module": "@jupyter-widgets/base",
            "_view_module_version": "1.2.0",
            "_view_name": "StyleView",
            "description_width": ""
          }
        },
        "89b0fa4e9ab3451a9692a4e679b949e2": {
          "model_module": "@jupyter-widgets/base",
          "model_module_version": "1.2.0",
          "model_name": "LayoutModel",
          "state": {
            "_model_module": "@jupyter-widgets/base",
            "_model_module_version": "1.2.0",
            "_model_name": "LayoutModel",
            "_view_count": null,
            "_view_module": "@jupyter-widgets/base",
            "_view_module_version": "1.2.0",
            "_view_name": "LayoutView",
            "align_content": null,
            "align_items": null,
            "align_self": null,
            "border": null,
            "bottom": null,
            "display": null,
            "flex": null,
            "flex_flow": null,
            "grid_area": null,
            "grid_auto_columns": null,
            "grid_auto_flow": null,
            "grid_auto_rows": null,
            "grid_column": null,
            "grid_gap": null,
            "grid_row": null,
            "grid_template_areas": null,
            "grid_template_columns": null,
            "grid_template_rows": null,
            "height": null,
            "justify_content": null,
            "justify_items": null,
            "left": null,
            "margin": null,
            "max_height": null,
            "max_width": null,
            "min_height": null,
            "min_width": null,
            "object_fit": null,
            "object_position": null,
            "order": null,
            "overflow": null,
            "overflow_x": null,
            "overflow_y": null,
            "padding": null,
            "right": null,
            "top": null,
            "visibility": null,
            "width": null
          }
        },
        "99741fe8920147a6867cdb91890b47d3": {
          "model_module": "@jupyter-widgets/base",
          "model_module_version": "1.2.0",
          "model_name": "LayoutModel",
          "state": {
            "_model_module": "@jupyter-widgets/base",
            "_model_module_version": "1.2.0",
            "_model_name": "LayoutModel",
            "_view_count": null,
            "_view_module": "@jupyter-widgets/base",
            "_view_module_version": "1.2.0",
            "_view_name": "LayoutView",
            "align_content": null,
            "align_items": null,
            "align_self": null,
            "border": null,
            "bottom": null,
            "display": null,
            "flex": null,
            "flex_flow": null,
            "grid_area": null,
            "grid_auto_columns": null,
            "grid_auto_flow": null,
            "grid_auto_rows": null,
            "grid_column": null,
            "grid_gap": null,
            "grid_row": null,
            "grid_template_areas": null,
            "grid_template_columns": null,
            "grid_template_rows": null,
            "height": null,
            "justify_content": null,
            "justify_items": null,
            "left": null,
            "margin": null,
            "max_height": null,
            "max_width": null,
            "min_height": null,
            "min_width": null,
            "object_fit": null,
            "object_position": null,
            "order": null,
            "overflow": null,
            "overflow_x": null,
            "overflow_y": null,
            "padding": null,
            "right": null,
            "top": null,
            "visibility": null,
            "width": null
          }
        },
        "a261cbb555ae4611aadb499b4c993aa1": {
          "model_module": "@jupyter-widgets/base",
          "model_module_version": "1.2.0",
          "model_name": "LayoutModel",
          "state": {
            "_model_module": "@jupyter-widgets/base",
            "_model_module_version": "1.2.0",
            "_model_name": "LayoutModel",
            "_view_count": null,
            "_view_module": "@jupyter-widgets/base",
            "_view_module_version": "1.2.0",
            "_view_name": "LayoutView",
            "align_content": null,
            "align_items": null,
            "align_self": null,
            "border": null,
            "bottom": null,
            "display": null,
            "flex": null,
            "flex_flow": null,
            "grid_area": null,
            "grid_auto_columns": null,
            "grid_auto_flow": null,
            "grid_auto_rows": null,
            "grid_column": null,
            "grid_gap": null,
            "grid_row": null,
            "grid_template_areas": null,
            "grid_template_columns": null,
            "grid_template_rows": null,
            "height": null,
            "justify_content": null,
            "justify_items": null,
            "left": null,
            "margin": null,
            "max_height": null,
            "max_width": null,
            "min_height": null,
            "min_width": null,
            "object_fit": null,
            "object_position": null,
            "order": null,
            "overflow": null,
            "overflow_x": null,
            "overflow_y": null,
            "padding": null,
            "right": null,
            "top": null,
            "visibility": null,
            "width": null
          }
        },
        "a625a5b8b0c74591a9641495563b9f02": {
          "model_module": "@jupyter-widgets/controls",
          "model_module_version": "1.5.0",
          "model_name": "ProgressStyleModel",
          "state": {
            "_model_module": "@jupyter-widgets/controls",
            "_model_module_version": "1.5.0",
            "_model_name": "ProgressStyleModel",
            "_view_count": null,
            "_view_module": "@jupyter-widgets/base",
            "_view_module_version": "1.2.0",
            "_view_name": "StyleView",
            "bar_color": null,
            "description_width": ""
          }
        },
        "a82295ae8b1142c69007272d9fd06855": {
          "model_module": "@jupyter-widgets/controls",
          "model_module_version": "1.5.0",
          "model_name": "DescriptionStyleModel",
          "state": {
            "_model_module": "@jupyter-widgets/controls",
            "_model_module_version": "1.5.0",
            "_model_name": "DescriptionStyleModel",
            "_view_count": null,
            "_view_module": "@jupyter-widgets/base",
            "_view_module_version": "1.2.0",
            "_view_name": "StyleView",
            "description_width": ""
          }
        },
        "aedb26cbd29545f2a9540c7b4f8eb32f": {
          "model_module": "@jupyter-widgets/base",
          "model_module_version": "1.2.0",
          "model_name": "LayoutModel",
          "state": {
            "_model_module": "@jupyter-widgets/base",
            "_model_module_version": "1.2.0",
            "_model_name": "LayoutModel",
            "_view_count": null,
            "_view_module": "@jupyter-widgets/base",
            "_view_module_version": "1.2.0",
            "_view_name": "LayoutView",
            "align_content": null,
            "align_items": null,
            "align_self": null,
            "border": null,
            "bottom": null,
            "display": null,
            "flex": null,
            "flex_flow": null,
            "grid_area": null,
            "grid_auto_columns": null,
            "grid_auto_flow": null,
            "grid_auto_rows": null,
            "grid_column": null,
            "grid_gap": null,
            "grid_row": null,
            "grid_template_areas": null,
            "grid_template_columns": null,
            "grid_template_rows": null,
            "height": null,
            "justify_content": null,
            "justify_items": null,
            "left": null,
            "margin": null,
            "max_height": null,
            "max_width": null,
            "min_height": null,
            "min_width": null,
            "object_fit": null,
            "object_position": null,
            "order": null,
            "overflow": null,
            "overflow_x": null,
            "overflow_y": null,
            "padding": null,
            "right": null,
            "top": null,
            "visibility": null,
            "width": null
          }
        },
        "afc0be73b1e04fd7b9c7fd5d729ff7fa": {
          "model_module": "@jupyter-widgets/base",
          "model_module_version": "1.2.0",
          "model_name": "LayoutModel",
          "state": {
            "_model_module": "@jupyter-widgets/base",
            "_model_module_version": "1.2.0",
            "_model_name": "LayoutModel",
            "_view_count": null,
            "_view_module": "@jupyter-widgets/base",
            "_view_module_version": "1.2.0",
            "_view_name": "LayoutView",
            "align_content": null,
            "align_items": null,
            "align_self": null,
            "border": null,
            "bottom": null,
            "display": null,
            "flex": null,
            "flex_flow": null,
            "grid_area": null,
            "grid_auto_columns": null,
            "grid_auto_flow": null,
            "grid_auto_rows": null,
            "grid_column": null,
            "grid_gap": null,
            "grid_row": null,
            "grid_template_areas": null,
            "grid_template_columns": null,
            "grid_template_rows": null,
            "height": null,
            "justify_content": null,
            "justify_items": null,
            "left": null,
            "margin": null,
            "max_height": null,
            "max_width": null,
            "min_height": null,
            "min_width": null,
            "object_fit": null,
            "object_position": null,
            "order": null,
            "overflow": null,
            "overflow_x": null,
            "overflow_y": null,
            "padding": null,
            "right": null,
            "top": null,
            "visibility": null,
            "width": null
          }
        },
        "b3c9d5480b4e4c7493a2842cf957d902": {
          "model_module": "@jupyter-widgets/controls",
          "model_module_version": "1.5.0",
          "model_name": "DescriptionStyleModel",
          "state": {
            "_model_module": "@jupyter-widgets/controls",
            "_model_module_version": "1.5.0",
            "_model_name": "DescriptionStyleModel",
            "_view_count": null,
            "_view_module": "@jupyter-widgets/base",
            "_view_module_version": "1.2.0",
            "_view_name": "StyleView",
            "description_width": ""
          }
        },
        "b5895a84e6b84daaa05843bde2243f8f": {
          "model_module": "@jupyter-widgets/base",
          "model_module_version": "1.2.0",
          "model_name": "LayoutModel",
          "state": {
            "_model_module": "@jupyter-widgets/base",
            "_model_module_version": "1.2.0",
            "_model_name": "LayoutModel",
            "_view_count": null,
            "_view_module": "@jupyter-widgets/base",
            "_view_module_version": "1.2.0",
            "_view_name": "LayoutView",
            "align_content": null,
            "align_items": null,
            "align_self": null,
            "border": null,
            "bottom": null,
            "display": null,
            "flex": null,
            "flex_flow": null,
            "grid_area": null,
            "grid_auto_columns": null,
            "grid_auto_flow": null,
            "grid_auto_rows": null,
            "grid_column": null,
            "grid_gap": null,
            "grid_row": null,
            "grid_template_areas": null,
            "grid_template_columns": null,
            "grid_template_rows": null,
            "height": null,
            "justify_content": null,
            "justify_items": null,
            "left": null,
            "margin": null,
            "max_height": null,
            "max_width": null,
            "min_height": null,
            "min_width": null,
            "object_fit": null,
            "object_position": null,
            "order": null,
            "overflow": null,
            "overflow_x": null,
            "overflow_y": null,
            "padding": null,
            "right": null,
            "top": null,
            "visibility": null,
            "width": null
          }
        },
        "b8d6e87c55ab49bb976508fb48b576aa": {
          "model_module": "@jupyter-widgets/base",
          "model_module_version": "1.2.0",
          "model_name": "LayoutModel",
          "state": {
            "_model_module": "@jupyter-widgets/base",
            "_model_module_version": "1.2.0",
            "_model_name": "LayoutModel",
            "_view_count": null,
            "_view_module": "@jupyter-widgets/base",
            "_view_module_version": "1.2.0",
            "_view_name": "LayoutView",
            "align_content": null,
            "align_items": null,
            "align_self": null,
            "border": null,
            "bottom": null,
            "display": null,
            "flex": null,
            "flex_flow": null,
            "grid_area": null,
            "grid_auto_columns": null,
            "grid_auto_flow": null,
            "grid_auto_rows": null,
            "grid_column": null,
            "grid_gap": null,
            "grid_row": null,
            "grid_template_areas": null,
            "grid_template_columns": null,
            "grid_template_rows": null,
            "height": null,
            "justify_content": null,
            "justify_items": null,
            "left": null,
            "margin": null,
            "max_height": null,
            "max_width": null,
            "min_height": null,
            "min_width": null,
            "object_fit": null,
            "object_position": null,
            "order": null,
            "overflow": null,
            "overflow_x": null,
            "overflow_y": null,
            "padding": null,
            "right": null,
            "top": null,
            "visibility": null,
            "width": null
          }
        },
        "b9af6a19d5644f8eb9f956a574dbe667": {
          "model_module": "@jupyter-widgets/controls",
          "model_module_version": "1.5.0",
          "model_name": "DescriptionStyleModel",
          "state": {
            "_model_module": "@jupyter-widgets/controls",
            "_model_module_version": "1.5.0",
            "_model_name": "DescriptionStyleModel",
            "_view_count": null,
            "_view_module": "@jupyter-widgets/base",
            "_view_module_version": "1.2.0",
            "_view_name": "StyleView",
            "description_width": ""
          }
        },
        "bac790b3f101474aaed8e7161ff7f2a8": {
          "model_module": "@jupyter-widgets/controls",
          "model_module_version": "1.5.0",
          "model_name": "FloatProgressModel",
          "state": {
            "_dom_classes": [],
            "_model_module": "@jupyter-widgets/controls",
            "_model_module_version": "1.5.0",
            "_model_name": "FloatProgressModel",
            "_view_count": null,
            "_view_module": "@jupyter-widgets/controls",
            "_view_module_version": "1.5.0",
            "_view_name": "ProgressView",
            "bar_style": "success",
            "description": "",
            "description_tooltip": null,
            "layout": "IPY_MODEL_99741fe8920147a6867cdb91890b47d3",
            "max": 2000,
            "min": 0,
            "orientation": "horizontal",
            "style": "IPY_MODEL_17dfe44c2a3b47d0af010f1b93d3ff79",
            "value": 2000
          }
        },
        "c4a5e6ac09c14950809f549bece474f6": {
          "model_module": "@jupyter-widgets/controls",
          "model_module_version": "1.5.0",
          "model_name": "HTMLModel",
          "state": {
            "_dom_classes": [],
            "_model_module": "@jupyter-widgets/controls",
            "_model_module_version": "1.5.0",
            "_model_name": "HTMLModel",
            "_view_count": null,
            "_view_module": "@jupyter-widgets/controls",
            "_view_module_version": "1.5.0",
            "_view_name": "HTMLView",
            "description": "",
            "description_tooltip": null,
            "layout": "IPY_MODEL_746f1832ab684e81966b59ac63818318",
            "placeholder": "​",
            "style": "IPY_MODEL_b3c9d5480b4e4c7493a2842cf957d902",
            "value": "100%"
          }
        },
        "c9110f1086ec4791b2f5bd7100f57512": {
          "model_module": "@jupyter-widgets/controls",
          "model_module_version": "1.5.0",
          "model_name": "FloatProgressModel",
          "state": {
            "_dom_classes": [],
            "_model_module": "@jupyter-widgets/controls",
            "_model_module_version": "1.5.0",
            "_model_name": "FloatProgressModel",
            "_view_count": null,
            "_view_module": "@jupyter-widgets/controls",
            "_view_module_version": "1.5.0",
            "_view_name": "ProgressView",
            "bar_style": "success",
            "description": "",
            "description_tooltip": null,
            "layout": "IPY_MODEL_afc0be73b1e04fd7b9c7fd5d729ff7fa",
            "max": 1000,
            "min": 0,
            "orientation": "horizontal",
            "style": "IPY_MODEL_2a3e53adb5924f9bb302a224038b6337",
            "value": 1000
          }
        },
        "cb72a37f2f3f4fa2afd115c3d2c868dd": {
          "model_module": "@jupyter-widgets/base",
          "model_module_version": "1.2.0",
          "model_name": "LayoutModel",
          "state": {
            "_model_module": "@jupyter-widgets/base",
            "_model_module_version": "1.2.0",
            "_model_name": "LayoutModel",
            "_view_count": null,
            "_view_module": "@jupyter-widgets/base",
            "_view_module_version": "1.2.0",
            "_view_name": "LayoutView",
            "align_content": null,
            "align_items": null,
            "align_self": null,
            "border": null,
            "bottom": null,
            "display": null,
            "flex": null,
            "flex_flow": null,
            "grid_area": null,
            "grid_auto_columns": null,
            "grid_auto_flow": null,
            "grid_auto_rows": null,
            "grid_column": null,
            "grid_gap": null,
            "grid_row": null,
            "grid_template_areas": null,
            "grid_template_columns": null,
            "grid_template_rows": null,
            "height": null,
            "justify_content": null,
            "justify_items": null,
            "left": null,
            "margin": null,
            "max_height": null,
            "max_width": null,
            "min_height": null,
            "min_width": null,
            "object_fit": null,
            "object_position": null,
            "order": null,
            "overflow": null,
            "overflow_x": null,
            "overflow_y": null,
            "padding": null,
            "right": null,
            "top": null,
            "visibility": null,
            "width": null
          }
        },
        "d66800fa1da64df2878500913dd70020": {
          "model_module": "@jupyter-widgets/controls",
          "model_module_version": "1.5.0",
          "model_name": "DescriptionStyleModel",
          "state": {
            "_model_module": "@jupyter-widgets/controls",
            "_model_module_version": "1.5.0",
            "_model_name": "DescriptionStyleModel",
            "_view_count": null,
            "_view_module": "@jupyter-widgets/base",
            "_view_module_version": "1.2.0",
            "_view_name": "StyleView",
            "description_width": ""
          }
        },
        "ff76a77224104698b1666319c002fcc5": {
          "model_module": "@jupyter-widgets/controls",
          "model_module_version": "1.5.0",
          "model_name": "FloatProgressModel",
          "state": {
            "_dom_classes": [],
            "_model_module": "@jupyter-widgets/controls",
            "_model_module_version": "1.5.0",
            "_model_name": "FloatProgressModel",
            "_view_count": null,
            "_view_module": "@jupyter-widgets/controls",
            "_view_module_version": "1.5.0",
            "_view_name": "ProgressView",
            "bar_style": "success",
            "description": "",
            "description_tooltip": null,
            "layout": "IPY_MODEL_b8d6e87c55ab49bb976508fb48b576aa",
            "max": 1000,
            "min": 0,
            "orientation": "horizontal",
            "style": "IPY_MODEL_1c97b57c47c54c7eb803107e42ee052f",
            "value": 1000
          }
        }
      }
    }
  },
  "nbformat": 4,
  "nbformat_minor": 0
}
